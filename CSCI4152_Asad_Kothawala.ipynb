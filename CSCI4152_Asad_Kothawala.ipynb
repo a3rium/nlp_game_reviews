{
 "cells": [
  {
   "cell_type": "markdown",
   "metadata": {},
   "source": [
    "# Data Importing and Preparation"
   ]
  },
  {
   "cell_type": "code",
   "execution_count": 527,
   "metadata": {},
   "outputs": [],
   "source": [
    "import matplotlib.pyplot as plt\n",
    "import pandas as pd\n",
    "import re\n",
    "import numpy as np\n",
    "from numpy import array\n",
    "from numpy import asarray\n",
    "from numpy import zeros"
   ]
  },
  {
   "cell_type": "code",
   "execution_count": 528,
   "metadata": {},
   "outputs": [
    {
     "data": {
      "text/html": [
       "<div>\n",
       "<style scoped>\n",
       "    .dataframe tbody tr th:only-of-type {\n",
       "        vertical-align: middle;\n",
       "    }\n",
       "\n",
       "    .dataframe tbody tr th {\n",
       "        vertical-align: top;\n",
       "    }\n",
       "\n",
       "    .dataframe thead th {\n",
       "        text-align: right;\n",
       "    }\n",
       "</style>\n",
       "<table border=\"1\" class=\"dataframe\">\n",
       "  <thead>\n",
       "    <tr style=\"text-align: right;\">\n",
       "      <th></th>\n",
       "      <th>app_id</th>\n",
       "      <th>app_name</th>\n",
       "      <th>review_text</th>\n",
       "      <th>review_score</th>\n",
       "      <th>review_votes</th>\n",
       "    </tr>\n",
       "  </thead>\n",
       "  <tbody>\n",
       "    <tr>\n",
       "      <th>0</th>\n",
       "      <td>10</td>\n",
       "      <td>Counter-Strike</td>\n",
       "      <td>Ruined my life.</td>\n",
       "      <td>1</td>\n",
       "      <td>0</td>\n",
       "    </tr>\n",
       "    <tr>\n",
       "      <th>1</th>\n",
       "      <td>10</td>\n",
       "      <td>Counter-Strike</td>\n",
       "      <td>This will be more of a ''my experience with th...</td>\n",
       "      <td>1</td>\n",
       "      <td>1</td>\n",
       "    </tr>\n",
       "    <tr>\n",
       "      <th>2</th>\n",
       "      <td>10</td>\n",
       "      <td>Counter-Strike</td>\n",
       "      <td>This game saved my virginity.</td>\n",
       "      <td>1</td>\n",
       "      <td>0</td>\n",
       "    </tr>\n",
       "    <tr>\n",
       "      <th>3</th>\n",
       "      <td>10</td>\n",
       "      <td>Counter-Strike</td>\n",
       "      <td>• Do you like original games? • Do you like ga...</td>\n",
       "      <td>1</td>\n",
       "      <td>0</td>\n",
       "    </tr>\n",
       "    <tr>\n",
       "      <th>4</th>\n",
       "      <td>10</td>\n",
       "      <td>Counter-Strike</td>\n",
       "      <td>Easy to learn, hard to master.</td>\n",
       "      <td>1</td>\n",
       "      <td>1</td>\n",
       "    </tr>\n",
       "    <tr>\n",
       "      <th>...</th>\n",
       "      <td>...</td>\n",
       "      <td>...</td>\n",
       "      <td>...</td>\n",
       "      <td>...</td>\n",
       "      <td>...</td>\n",
       "    </tr>\n",
       "    <tr>\n",
       "      <th>6417101</th>\n",
       "      <td>99910</td>\n",
       "      <td>Puzzle Pirates</td>\n",
       "      <td>I really ove this game but it needs somethings...</td>\n",
       "      <td>-1</td>\n",
       "      <td>0</td>\n",
       "    </tr>\n",
       "    <tr>\n",
       "      <th>6417102</th>\n",
       "      <td>99910</td>\n",
       "      <td>Puzzle Pirates</td>\n",
       "      <td>Used to play Puzzel Pirates 'way back when', b...</td>\n",
       "      <td>-1</td>\n",
       "      <td>0</td>\n",
       "    </tr>\n",
       "    <tr>\n",
       "      <th>6417103</th>\n",
       "      <td>99910</td>\n",
       "      <td>Puzzle Pirates</td>\n",
       "      <td>This game was aright, though a bit annoying. W...</td>\n",
       "      <td>-1</td>\n",
       "      <td>0</td>\n",
       "    </tr>\n",
       "    <tr>\n",
       "      <th>6417104</th>\n",
       "      <td>99910</td>\n",
       "      <td>Puzzle Pirates</td>\n",
       "      <td>I had a nice review to recommend this game, bu...</td>\n",
       "      <td>-1</td>\n",
       "      <td>0</td>\n",
       "    </tr>\n",
       "    <tr>\n",
       "      <th>6417105</th>\n",
       "      <td>99910</td>\n",
       "      <td>Puzzle Pirates</td>\n",
       "      <td>The puzzles in this game are fun, but you have...</td>\n",
       "      <td>-1</td>\n",
       "      <td>0</td>\n",
       "    </tr>\n",
       "  </tbody>\n",
       "</table>\n",
       "<p>6417106 rows × 5 columns</p>\n",
       "</div>"
      ],
      "text/plain": [
       "         app_id        app_name  \\\n",
       "0            10  Counter-Strike   \n",
       "1            10  Counter-Strike   \n",
       "2            10  Counter-Strike   \n",
       "3            10  Counter-Strike   \n",
       "4            10  Counter-Strike   \n",
       "...         ...             ...   \n",
       "6417101   99910  Puzzle Pirates   \n",
       "6417102   99910  Puzzle Pirates   \n",
       "6417103   99910  Puzzle Pirates   \n",
       "6417104   99910  Puzzle Pirates   \n",
       "6417105   99910  Puzzle Pirates   \n",
       "\n",
       "                                               review_text  review_score  \\\n",
       "0                                          Ruined my life.             1   \n",
       "1        This will be more of a ''my experience with th...             1   \n",
       "2                            This game saved my virginity.             1   \n",
       "3        • Do you like original games? • Do you like ga...             1   \n",
       "4                 Easy to learn, hard to master.                       1   \n",
       "...                                                    ...           ...   \n",
       "6417101  I really ove this game but it needs somethings...            -1   \n",
       "6417102  Used to play Puzzel Pirates 'way back when', b...            -1   \n",
       "6417103  This game was aright, though a bit annoying. W...            -1   \n",
       "6417104  I had a nice review to recommend this game, bu...            -1   \n",
       "6417105  The puzzles in this game are fun, but you have...            -1   \n",
       "\n",
       "         review_votes  \n",
       "0                   0  \n",
       "1                   1  \n",
       "2                   0  \n",
       "3                   0  \n",
       "4                   1  \n",
       "...               ...  \n",
       "6417101             0  \n",
       "6417102             0  \n",
       "6417103             0  \n",
       "6417104             0  \n",
       "6417105             0  \n",
       "\n",
       "[6417106 rows x 5 columns]"
      ]
     },
     "execution_count": 528,
     "metadata": {},
     "output_type": "execute_result"
    }
   ],
   "source": [
    "data = pd.read_csv(\"dataset.csv\")\n",
    "data"
   ]
  },
  {
   "cell_type": "code",
   "execution_count": 529,
   "metadata": {},
   "outputs": [
    {
     "data": {
      "text/plain": [
       "app_name        183234\n",
       "review_text       7305\n",
       "app_id               0\n",
       "review_score         0\n",
       "review_votes         0\n",
       "dtype: int64"
      ]
     },
     "execution_count": 529,
     "metadata": {},
     "output_type": "execute_result"
    }
   ],
   "source": [
    "data.isnull().sum().sort_values(ascending=False)"
   ]
  },
  {
   "cell_type": "code",
   "execution_count": 530,
   "metadata": {},
   "outputs": [],
   "source": [
    "data = data.dropna(subset=[\"review_text\"])"
   ]
  },
  {
   "cell_type": "code",
   "execution_count": 531,
   "metadata": {},
   "outputs": [
    {
     "data": {
      "text/plain": [
       "app_name        183073\n",
       "app_id               0\n",
       "review_text          0\n",
       "review_score         0\n",
       "review_votes         0\n",
       "dtype: int64"
      ]
     },
     "execution_count": 531,
     "metadata": {},
     "output_type": "execute_result"
    }
   ],
   "source": [
    "data.isnull().sum().sort_values(ascending=False)"
   ]
  },
  {
   "cell_type": "code",
   "execution_count": 532,
   "metadata": {},
   "outputs": [
    {
     "data": {
      "text/plain": [
       "9972"
      ]
     },
     "execution_count": 532,
     "metadata": {},
     "output_type": "execute_result"
    }
   ],
   "source": [
    "data[\"app_id\"].nunique()"
   ]
  },
  {
   "cell_type": "code",
   "execution_count": 533,
   "metadata": {},
   "outputs": [],
   "source": [
    "# drop duplicate reviews\n",
    "data = data.drop_duplicates(\"review_text\")"
   ]
  },
  {
   "cell_type": "code",
   "execution_count": 534,
   "metadata": {},
   "outputs": [
    {
     "data": {
      "text/html": [
       "<div>\n",
       "<style scoped>\n",
       "    .dataframe tbody tr th:only-of-type {\n",
       "        vertical-align: middle;\n",
       "    }\n",
       "\n",
       "    .dataframe tbody tr th {\n",
       "        vertical-align: top;\n",
       "    }\n",
       "\n",
       "    .dataframe thead th {\n",
       "        text-align: right;\n",
       "    }\n",
       "</style>\n",
       "<table border=\"1\" class=\"dataframe\">\n",
       "  <thead>\n",
       "    <tr style=\"text-align: right;\">\n",
       "      <th></th>\n",
       "      <th>QueryID</th>\n",
       "      <th>ResponseID</th>\n",
       "      <th>QueryName</th>\n",
       "      <th>ResponseName</th>\n",
       "      <th>ReleaseDate</th>\n",
       "      <th>RequiredAge</th>\n",
       "      <th>DemoCount</th>\n",
       "      <th>DeveloperCount</th>\n",
       "      <th>DLCCount</th>\n",
       "      <th>Metacritic</th>\n",
       "      <th>...</th>\n",
       "      <th>LegalNotice</th>\n",
       "      <th>Reviews</th>\n",
       "      <th>SupportedLanguages</th>\n",
       "      <th>Website</th>\n",
       "      <th>PCMinReqsText</th>\n",
       "      <th>PCRecReqsText</th>\n",
       "      <th>LinuxMinReqsText</th>\n",
       "      <th>LinuxRecReqsText</th>\n",
       "      <th>MacMinReqsText</th>\n",
       "      <th>MacRecReqsText</th>\n",
       "    </tr>\n",
       "  </thead>\n",
       "  <tbody>\n",
       "    <tr>\n",
       "      <th>0</th>\n",
       "      <td>10</td>\n",
       "      <td>10</td>\n",
       "      <td>Counter-Strike</td>\n",
       "      <td>Counter-Strike</td>\n",
       "      <td>Nov 1 2000</td>\n",
       "      <td>0</td>\n",
       "      <td>0</td>\n",
       "      <td>1</td>\n",
       "      <td>0</td>\n",
       "      <td>88</td>\n",
       "      <td>...</td>\n",
       "      <td></td>\n",
       "      <td></td>\n",
       "      <td>English French German Italian Spanish Simplifi...</td>\n",
       "      <td>None</td>\n",
       "      <td>Minimum: 500 mhz processor 96mb ram 16mb video...</td>\n",
       "      <td></td>\n",
       "      <td>Minimum: Linux Ubuntu 12.04 Dual-core from Int...</td>\n",
       "      <td></td>\n",
       "      <td>Minimum: OS X  Snow Leopard 10.6.3 1GB RAM 4GB...</td>\n",
       "      <td></td>\n",
       "    </tr>\n",
       "    <tr>\n",
       "      <th>1</th>\n",
       "      <td>20</td>\n",
       "      <td>20</td>\n",
       "      <td>Team Fortress Classic</td>\n",
       "      <td>Team Fortress Classic</td>\n",
       "      <td>Apr 1 1999</td>\n",
       "      <td>0</td>\n",
       "      <td>0</td>\n",
       "      <td>1</td>\n",
       "      <td>0</td>\n",
       "      <td>0</td>\n",
       "      <td>...</td>\n",
       "      <td></td>\n",
       "      <td></td>\n",
       "      <td>English French German Italian Spanish</td>\n",
       "      <td>None</td>\n",
       "      <td>Minimum: 500 mhz processor 96mb ram 16mb video...</td>\n",
       "      <td></td>\n",
       "      <td>Minimum: Linux Ubuntu 12.04 Dual-core from Int...</td>\n",
       "      <td></td>\n",
       "      <td>Minimum: OS X  Snow Leopard 10.6.3 1GB RAM 4GB...</td>\n",
       "      <td></td>\n",
       "    </tr>\n",
       "    <tr>\n",
       "      <th>2</th>\n",
       "      <td>30</td>\n",
       "      <td>30</td>\n",
       "      <td>Day of Defeat</td>\n",
       "      <td>Day of Defeat</td>\n",
       "      <td>May 1 2003</td>\n",
       "      <td>0</td>\n",
       "      <td>0</td>\n",
       "      <td>1</td>\n",
       "      <td>0</td>\n",
       "      <td>79</td>\n",
       "      <td>...</td>\n",
       "      <td></td>\n",
       "      <td></td>\n",
       "      <td>English French German Italian Spanish</td>\n",
       "      <td>http://www.dayofdefeat.com/</td>\n",
       "      <td>Minimum: 500 mhz processor 96mb ram 16mb video...</td>\n",
       "      <td></td>\n",
       "      <td>Minimum: Linux Ubuntu 12.04 Dual-core from Int...</td>\n",
       "      <td></td>\n",
       "      <td>Minimum: OS X  Snow Leopard 10.6.3 1GB RAM 4GB...</td>\n",
       "      <td></td>\n",
       "    </tr>\n",
       "    <tr>\n",
       "      <th>3</th>\n",
       "      <td>40</td>\n",
       "      <td>40</td>\n",
       "      <td>Deathmatch Classic</td>\n",
       "      <td>Deathmatch Classic</td>\n",
       "      <td>Jun 1 2001</td>\n",
       "      <td>0</td>\n",
       "      <td>0</td>\n",
       "      <td>1</td>\n",
       "      <td>0</td>\n",
       "      <td>0</td>\n",
       "      <td>...</td>\n",
       "      <td></td>\n",
       "      <td></td>\n",
       "      <td>English French German Italian Spanish</td>\n",
       "      <td>None</td>\n",
       "      <td>Minimum: 500 mhz processor 96mb ram 16mb video...</td>\n",
       "      <td></td>\n",
       "      <td>Minimum: Linux Ubuntu 12.04 Dual-core from Int...</td>\n",
       "      <td></td>\n",
       "      <td>Minimum: OS X  Snow Leopard 10.6.3 1GB RAM 4GB...</td>\n",
       "      <td></td>\n",
       "    </tr>\n",
       "    <tr>\n",
       "      <th>4</th>\n",
       "      <td>50</td>\n",
       "      <td>50</td>\n",
       "      <td>Half-Life: Opposing Force</td>\n",
       "      <td>Half-Life: Opposing Force</td>\n",
       "      <td>Nov 1 1999</td>\n",
       "      <td>0</td>\n",
       "      <td>0</td>\n",
       "      <td>1</td>\n",
       "      <td>0</td>\n",
       "      <td>0</td>\n",
       "      <td>...</td>\n",
       "      <td></td>\n",
       "      <td></td>\n",
       "      <td>English French German Korean</td>\n",
       "      <td>None</td>\n",
       "      <td>Minimum: 500 mhz processor 96mb ram 16mb video...</td>\n",
       "      <td></td>\n",
       "      <td>Minimum: Linux Ubuntu 12.04 Dual-core from Int...</td>\n",
       "      <td></td>\n",
       "      <td>Minimum: OS X  Snow Leopard 10.6.3 1GB RAM 4GB...</td>\n",
       "      <td></td>\n",
       "    </tr>\n",
       "  </tbody>\n",
       "</table>\n",
       "<p>5 rows × 78 columns</p>\n",
       "</div>"
      ],
      "text/plain": [
       "   QueryID  ResponseID                  QueryName               ResponseName  \\\n",
       "0       10          10             Counter-Strike             Counter-Strike   \n",
       "1       20          20      Team Fortress Classic      Team Fortress Classic   \n",
       "2       30          30              Day of Defeat              Day of Defeat   \n",
       "3       40          40         Deathmatch Classic         Deathmatch Classic   \n",
       "4       50          50  Half-Life: Opposing Force  Half-Life: Opposing Force   \n",
       "\n",
       "  ReleaseDate  RequiredAge  DemoCount  DeveloperCount  DLCCount  Metacritic  \\\n",
       "0  Nov 1 2000            0          0               1         0          88   \n",
       "1  Apr 1 1999            0          0               1         0           0   \n",
       "2  May 1 2003            0          0               1         0          79   \n",
       "3  Jun 1 2001            0          0               1         0           0   \n",
       "4  Nov 1 1999            0          0               1         0           0   \n",
       "\n",
       "   ...  LegalNotice  Reviews  \\\n",
       "0  ...                         \n",
       "1  ...                         \n",
       "2  ...                         \n",
       "3  ...                         \n",
       "4  ...                         \n",
       "\n",
       "                                  SupportedLanguages  \\\n",
       "0  English French German Italian Spanish Simplifi...   \n",
       "1              English French German Italian Spanish   \n",
       "2              English French German Italian Spanish   \n",
       "3              English French German Italian Spanish   \n",
       "4                       English French German Korean   \n",
       "\n",
       "                       Website  \\\n",
       "0                         None   \n",
       "1                         None   \n",
       "2  http://www.dayofdefeat.com/   \n",
       "3                         None   \n",
       "4                         None   \n",
       "\n",
       "                                       PCMinReqsText  PCRecReqsText  \\\n",
       "0  Minimum: 500 mhz processor 96mb ram 16mb video...                  \n",
       "1  Minimum: 500 mhz processor 96mb ram 16mb video...                  \n",
       "2  Minimum: 500 mhz processor 96mb ram 16mb video...                  \n",
       "3  Minimum: 500 mhz processor 96mb ram 16mb video...                  \n",
       "4  Minimum: 500 mhz processor 96mb ram 16mb video...                  \n",
       "\n",
       "                                    LinuxMinReqsText  LinuxRecReqsText  \\\n",
       "0  Minimum: Linux Ubuntu 12.04 Dual-core from Int...                     \n",
       "1  Minimum: Linux Ubuntu 12.04 Dual-core from Int...                     \n",
       "2  Minimum: Linux Ubuntu 12.04 Dual-core from Int...                     \n",
       "3  Minimum: Linux Ubuntu 12.04 Dual-core from Int...                     \n",
       "4  Minimum: Linux Ubuntu 12.04 Dual-core from Int...                     \n",
       "\n",
       "                                      MacMinReqsText  MacRecReqsText  \n",
       "0  Minimum: OS X  Snow Leopard 10.6.3 1GB RAM 4GB...                  \n",
       "1  Minimum: OS X  Snow Leopard 10.6.3 1GB RAM 4GB...                  \n",
       "2  Minimum: OS X  Snow Leopard 10.6.3 1GB RAM 4GB...                  \n",
       "3  Minimum: OS X  Snow Leopard 10.6.3 1GB RAM 4GB...                  \n",
       "4  Minimum: OS X  Snow Leopard 10.6.3 1GB RAM 4GB...                  \n",
       "\n",
       "[5 rows x 78 columns]"
      ]
     },
     "execution_count": 534,
     "metadata": {},
     "output_type": "execute_result"
    }
   ],
   "source": [
    "games_list = pd.read_csv(\"games-features.csv\")\n",
    "games_list.head()"
   ]
  },
  {
   "cell_type": "code",
   "execution_count": 535,
   "metadata": {},
   "outputs": [
    {
     "data": {
      "text/plain": [
       "13304"
      ]
     },
     "execution_count": 535,
     "metadata": {},
     "output_type": "execute_result"
    }
   ],
   "source": [
    "games_list[\"QueryID\"].nunique()"
   ]
  },
  {
   "cell_type": "code",
   "execution_count": 536,
   "metadata": {},
   "outputs": [
    {
     "name": "stdout",
     "output_type": "stream",
     "text": [
      "SupportEmail         2\n",
      "LegalNotice          1\n",
      "SupportURL           1\n",
      "QueryName            1\n",
      "CategoryVRSupport    0\n",
      "                    ..\n",
      "PlatformWindows      0\n",
      "SubscriptionAvail    0\n",
      "PurchaseAvail        0\n",
      "FreeVerAvail         0\n",
      "MacRecReqsText       0\n",
      "Length: 78, dtype: int64\n"
     ]
    }
   ],
   "source": [
    "print(games_list.isnull().sum().sort_values(ascending=False))"
   ]
  },
  {
   "cell_type": "code",
   "execution_count": 537,
   "metadata": {},
   "outputs": [
    {
     "name": "stdout",
     "output_type": "stream",
     "text": [
      "app_name        130075\n",
      "app_id               0\n",
      "review_text          0\n",
      "review_score         0\n",
      "review_votes         0\n",
      "dtype: int64\n"
     ]
    }
   ],
   "source": [
    "print(data.isnull().sum().sort_values(ascending=False))"
   ]
  },
  {
   "cell_type": "code",
   "execution_count": 538,
   "metadata": {},
   "outputs": [
    {
     "data": {
      "text/html": [
       "<div>\n",
       "<style scoped>\n",
       "    .dataframe tbody tr th:only-of-type {\n",
       "        vertical-align: middle;\n",
       "    }\n",
       "\n",
       "    .dataframe tbody tr th {\n",
       "        vertical-align: top;\n",
       "    }\n",
       "\n",
       "    .dataframe thead th {\n",
       "        text-align: right;\n",
       "    }\n",
       "</style>\n",
       "<table border=\"1\" class=\"dataframe\">\n",
       "  <thead>\n",
       "    <tr style=\"text-align: right;\">\n",
       "      <th></th>\n",
       "      <th>app_id</th>\n",
       "      <th>app_name</th>\n",
       "      <th>review_text</th>\n",
       "      <th>review_score</th>\n",
       "      <th>review_votes</th>\n",
       "      <th>QueryID</th>\n",
       "      <th>IsFree</th>\n",
       "      <th>GenreIsAction</th>\n",
       "      <th>GenreIsAdventure</th>\n",
       "      <th>GenreIsRPG</th>\n",
       "      <th>GenreIsSimulation</th>\n",
       "      <th>GenreIsStrategy</th>\n",
       "      <th>GenreIsSports</th>\n",
       "      <th>GenreIsRacing</th>\n",
       "      <th>Metacritic</th>\n",
       "    </tr>\n",
       "  </thead>\n",
       "  <tbody>\n",
       "    <tr>\n",
       "      <th>0</th>\n",
       "      <td>10</td>\n",
       "      <td>Counter-Strike</td>\n",
       "      <td>Ruined my life.</td>\n",
       "      <td>1</td>\n",
       "      <td>0</td>\n",
       "      <td>10</td>\n",
       "      <td>False</td>\n",
       "      <td>True</td>\n",
       "      <td>False</td>\n",
       "      <td>False</td>\n",
       "      <td>False</td>\n",
       "      <td>False</td>\n",
       "      <td>False</td>\n",
       "      <td>False</td>\n",
       "      <td>88</td>\n",
       "    </tr>\n",
       "    <tr>\n",
       "      <th>1</th>\n",
       "      <td>10</td>\n",
       "      <td>Counter-Strike</td>\n",
       "      <td>This will be more of a ''my experience with th...</td>\n",
       "      <td>1</td>\n",
       "      <td>1</td>\n",
       "      <td>10</td>\n",
       "      <td>False</td>\n",
       "      <td>True</td>\n",
       "      <td>False</td>\n",
       "      <td>False</td>\n",
       "      <td>False</td>\n",
       "      <td>False</td>\n",
       "      <td>False</td>\n",
       "      <td>False</td>\n",
       "      <td>88</td>\n",
       "    </tr>\n",
       "    <tr>\n",
       "      <th>2</th>\n",
       "      <td>10</td>\n",
       "      <td>Counter-Strike</td>\n",
       "      <td>This game saved my virginity.</td>\n",
       "      <td>1</td>\n",
       "      <td>0</td>\n",
       "      <td>10</td>\n",
       "      <td>False</td>\n",
       "      <td>True</td>\n",
       "      <td>False</td>\n",
       "      <td>False</td>\n",
       "      <td>False</td>\n",
       "      <td>False</td>\n",
       "      <td>False</td>\n",
       "      <td>False</td>\n",
       "      <td>88</td>\n",
       "    </tr>\n",
       "    <tr>\n",
       "      <th>3</th>\n",
       "      <td>10</td>\n",
       "      <td>Counter-Strike</td>\n",
       "      <td>• Do you like original games? • Do you like ga...</td>\n",
       "      <td>1</td>\n",
       "      <td>0</td>\n",
       "      <td>10</td>\n",
       "      <td>False</td>\n",
       "      <td>True</td>\n",
       "      <td>False</td>\n",
       "      <td>False</td>\n",
       "      <td>False</td>\n",
       "      <td>False</td>\n",
       "      <td>False</td>\n",
       "      <td>False</td>\n",
       "      <td>88</td>\n",
       "    </tr>\n",
       "    <tr>\n",
       "      <th>4</th>\n",
       "      <td>10</td>\n",
       "      <td>Counter-Strike</td>\n",
       "      <td>Easy to learn, hard to master.</td>\n",
       "      <td>1</td>\n",
       "      <td>1</td>\n",
       "      <td>10</td>\n",
       "      <td>False</td>\n",
       "      <td>True</td>\n",
       "      <td>False</td>\n",
       "      <td>False</td>\n",
       "      <td>False</td>\n",
       "      <td>False</td>\n",
       "      <td>False</td>\n",
       "      <td>False</td>\n",
       "      <td>88</td>\n",
       "    </tr>\n",
       "    <tr>\n",
       "      <th>...</th>\n",
       "      <td>...</td>\n",
       "      <td>...</td>\n",
       "      <td>...</td>\n",
       "      <td>...</td>\n",
       "      <td>...</td>\n",
       "      <td>...</td>\n",
       "      <td>...</td>\n",
       "      <td>...</td>\n",
       "      <td>...</td>\n",
       "      <td>...</td>\n",
       "      <td>...</td>\n",
       "      <td>...</td>\n",
       "      <td>...</td>\n",
       "      <td>...</td>\n",
       "      <td>...</td>\n",
       "    </tr>\n",
       "    <tr>\n",
       "      <th>4565948</th>\n",
       "      <td>99910</td>\n",
       "      <td>Puzzle Pirates</td>\n",
       "      <td>I really ove this game but it needs somethings...</td>\n",
       "      <td>-1</td>\n",
       "      <td>0</td>\n",
       "      <td>99910</td>\n",
       "      <td>True</td>\n",
       "      <td>False</td>\n",
       "      <td>True</td>\n",
       "      <td>False</td>\n",
       "      <td>False</td>\n",
       "      <td>True</td>\n",
       "      <td>False</td>\n",
       "      <td>False</td>\n",
       "      <td>0</td>\n",
       "    </tr>\n",
       "    <tr>\n",
       "      <th>4565949</th>\n",
       "      <td>99910</td>\n",
       "      <td>Puzzle Pirates</td>\n",
       "      <td>Used to play Puzzel Pirates 'way back when', b...</td>\n",
       "      <td>-1</td>\n",
       "      <td>0</td>\n",
       "      <td>99910</td>\n",
       "      <td>True</td>\n",
       "      <td>False</td>\n",
       "      <td>True</td>\n",
       "      <td>False</td>\n",
       "      <td>False</td>\n",
       "      <td>True</td>\n",
       "      <td>False</td>\n",
       "      <td>False</td>\n",
       "      <td>0</td>\n",
       "    </tr>\n",
       "    <tr>\n",
       "      <th>4565950</th>\n",
       "      <td>99910</td>\n",
       "      <td>Puzzle Pirates</td>\n",
       "      <td>This game was aright, though a bit annoying. W...</td>\n",
       "      <td>-1</td>\n",
       "      <td>0</td>\n",
       "      <td>99910</td>\n",
       "      <td>True</td>\n",
       "      <td>False</td>\n",
       "      <td>True</td>\n",
       "      <td>False</td>\n",
       "      <td>False</td>\n",
       "      <td>True</td>\n",
       "      <td>False</td>\n",
       "      <td>False</td>\n",
       "      <td>0</td>\n",
       "    </tr>\n",
       "    <tr>\n",
       "      <th>4565951</th>\n",
       "      <td>99910</td>\n",
       "      <td>Puzzle Pirates</td>\n",
       "      <td>I had a nice review to recommend this game, bu...</td>\n",
       "      <td>-1</td>\n",
       "      <td>0</td>\n",
       "      <td>99910</td>\n",
       "      <td>True</td>\n",
       "      <td>False</td>\n",
       "      <td>True</td>\n",
       "      <td>False</td>\n",
       "      <td>False</td>\n",
       "      <td>True</td>\n",
       "      <td>False</td>\n",
       "      <td>False</td>\n",
       "      <td>0</td>\n",
       "    </tr>\n",
       "    <tr>\n",
       "      <th>4565952</th>\n",
       "      <td>99910</td>\n",
       "      <td>Puzzle Pirates</td>\n",
       "      <td>The puzzles in this game are fun, but you have...</td>\n",
       "      <td>-1</td>\n",
       "      <td>0</td>\n",
       "      <td>99910</td>\n",
       "      <td>True</td>\n",
       "      <td>False</td>\n",
       "      <td>True</td>\n",
       "      <td>False</td>\n",
       "      <td>False</td>\n",
       "      <td>True</td>\n",
       "      <td>False</td>\n",
       "      <td>False</td>\n",
       "      <td>0</td>\n",
       "    </tr>\n",
       "  </tbody>\n",
       "</table>\n",
       "<p>4565953 rows × 15 columns</p>\n",
       "</div>"
      ],
      "text/plain": [
       "         app_id        app_name  \\\n",
       "0            10  Counter-Strike   \n",
       "1            10  Counter-Strike   \n",
       "2            10  Counter-Strike   \n",
       "3            10  Counter-Strike   \n",
       "4            10  Counter-Strike   \n",
       "...         ...             ...   \n",
       "4565948   99910  Puzzle Pirates   \n",
       "4565949   99910  Puzzle Pirates   \n",
       "4565950   99910  Puzzle Pirates   \n",
       "4565951   99910  Puzzle Pirates   \n",
       "4565952   99910  Puzzle Pirates   \n",
       "\n",
       "                                               review_text  review_score  \\\n",
       "0                                          Ruined my life.             1   \n",
       "1        This will be more of a ''my experience with th...             1   \n",
       "2                            This game saved my virginity.             1   \n",
       "3        • Do you like original games? • Do you like ga...             1   \n",
       "4                 Easy to learn, hard to master.                       1   \n",
       "...                                                    ...           ...   \n",
       "4565948  I really ove this game but it needs somethings...            -1   \n",
       "4565949  Used to play Puzzel Pirates 'way back when', b...            -1   \n",
       "4565950  This game was aright, though a bit annoying. W...            -1   \n",
       "4565951  I had a nice review to recommend this game, bu...            -1   \n",
       "4565952  The puzzles in this game are fun, but you have...            -1   \n",
       "\n",
       "         review_votes  QueryID  IsFree  GenreIsAction  GenreIsAdventure  \\\n",
       "0                   0       10   False           True             False   \n",
       "1                   1       10   False           True             False   \n",
       "2                   0       10   False           True             False   \n",
       "3                   0       10   False           True             False   \n",
       "4                   1       10   False           True             False   \n",
       "...               ...      ...     ...            ...               ...   \n",
       "4565948             0    99910    True          False              True   \n",
       "4565949             0    99910    True          False              True   \n",
       "4565950             0    99910    True          False              True   \n",
       "4565951             0    99910    True          False              True   \n",
       "4565952             0    99910    True          False              True   \n",
       "\n",
       "         GenreIsRPG  GenreIsSimulation  GenreIsStrategy  GenreIsSports  \\\n",
       "0             False              False            False          False   \n",
       "1             False              False            False          False   \n",
       "2             False              False            False          False   \n",
       "3             False              False            False          False   \n",
       "4             False              False            False          False   \n",
       "...             ...                ...              ...            ...   \n",
       "4565948       False              False             True          False   \n",
       "4565949       False              False             True          False   \n",
       "4565950       False              False             True          False   \n",
       "4565951       False              False             True          False   \n",
       "4565952       False              False             True          False   \n",
       "\n",
       "         GenreIsRacing  Metacritic  \n",
       "0                False          88  \n",
       "1                False          88  \n",
       "2                False          88  \n",
       "3                False          88  \n",
       "4                False          88  \n",
       "...                ...         ...  \n",
       "4565948          False           0  \n",
       "4565949          False           0  \n",
       "4565950          False           0  \n",
       "4565951          False           0  \n",
       "4565952          False           0  \n",
       "\n",
       "[4565953 rows x 15 columns]"
      ]
     },
     "execution_count": 538,
     "metadata": {},
     "output_type": "execute_result"
    }
   ],
   "source": [
    "data = pd.merge(data,games_list[[\"QueryID\",\"IsFree\",\"GenreIsAction\",\"GenreIsAdventure\",\"GenreIsRPG\",\"GenreIsSimulation\",\"GenreIsStrategy\",\"GenreIsSports\",\"GenreIsRacing\",\"Metacritic\"]],left_on=\"app_id\", right_on=\"QueryID\")\n",
    "data"
   ]
  },
  {
   "cell_type": "code",
   "execution_count": 539,
   "metadata": {},
   "outputs": [
    {
     "data": {
      "text/plain": [
       "<AxesSubplot:ylabel='Frequency'>"
      ]
     },
     "execution_count": 539,
     "metadata": {},
     "output_type": "execute_result"
    },
    {
     "data": {
      "image/png": "[encoded data removed]",
      "text/plain": [
       "<Figure size 720x432 with 1 Axes>"
      ]
     },
     "metadata": {
      "needs_background": "light"
     },
     "output_type": "display_data"
    }
   ],
   "source": [
    "data[\"review_votes\"].plot.hist()"
   ]
  },
  {
   "cell_type": "code",
   "execution_count": 540,
   "metadata": {},
   "outputs": [
    {
     "data": {
      "text/html": [
       "<div>\n",
       "<style scoped>\n",
       "    .dataframe tbody tr th:only-of-type {\n",
       "        vertical-align: middle;\n",
       "    }\n",
       "\n",
       "    .dataframe tbody tr th {\n",
       "        vertical-align: top;\n",
       "    }\n",
       "\n",
       "    .dataframe thead th {\n",
       "        text-align: right;\n",
       "    }\n",
       "</style>\n",
       "<table border=\"1\" class=\"dataframe\">\n",
       "  <thead>\n",
       "    <tr style=\"text-align: right;\">\n",
       "      <th></th>\n",
       "      <th>app_id</th>\n",
       "      <th>app_name</th>\n",
       "      <th>review_text</th>\n",
       "      <th>review_score</th>\n",
       "      <th>review_votes</th>\n",
       "      <th>QueryID</th>\n",
       "      <th>IsFree</th>\n",
       "      <th>GenreIsAction</th>\n",
       "      <th>GenreIsAdventure</th>\n",
       "      <th>GenreIsRPG</th>\n",
       "      <th>GenreIsSimulation</th>\n",
       "      <th>GenreIsStrategy</th>\n",
       "      <th>GenreIsSports</th>\n",
       "      <th>GenreIsRacing</th>\n",
       "      <th>Metacritic</th>\n",
       "    </tr>\n",
       "  </thead>\n",
       "  <tbody>\n",
       "    <tr>\n",
       "      <th>2970</th>\n",
       "      <td>10</td>\n",
       "      <td>Counter-Strike</td>\n",
       "      <td>You are 14 years old, first time trying to pla...</td>\n",
       "      <td>0</td>\n",
       "      <td>1</td>\n",
       "      <td>10</td>\n",
       "      <td>0</td>\n",
       "      <td>1</td>\n",
       "      <td>0</td>\n",
       "      <td>0</td>\n",
       "      <td>0</td>\n",
       "      <td>0</td>\n",
       "      <td>0</td>\n",
       "      <td>0</td>\n",
       "      <td>88</td>\n",
       "    </tr>\n",
       "    <tr>\n",
       "      <th>3291</th>\n",
       "      <td>10</td>\n",
       "      <td>Counter-Strike</td>\n",
       "      <td>Game full of cheaters nice valve.</td>\n",
       "      <td>0</td>\n",
       "      <td>0</td>\n",
       "      <td>10</td>\n",
       "      <td>0</td>\n",
       "      <td>1</td>\n",
       "      <td>0</td>\n",
       "      <td>0</td>\n",
       "      <td>0</td>\n",
       "      <td>0</td>\n",
       "      <td>0</td>\n",
       "      <td>0</td>\n",
       "      <td>88</td>\n",
       "    </tr>\n",
       "    <tr>\n",
       "      <th>3839</th>\n",
       "      <td>10</td>\n",
       "      <td>Counter-Strike</td>\n",
       "      <td>Eh, its alright</td>\n",
       "      <td>0</td>\n",
       "      <td>0</td>\n",
       "      <td>10</td>\n",
       "      <td>0</td>\n",
       "      <td>1</td>\n",
       "      <td>0</td>\n",
       "      <td>0</td>\n",
       "      <td>0</td>\n",
       "      <td>0</td>\n",
       "      <td>0</td>\n",
       "      <td>0</td>\n",
       "      <td>88</td>\n",
       "    </tr>\n",
       "    <tr>\n",
       "      <th>3931</th>\n",
       "      <td>10</td>\n",
       "      <td>Counter-Strike</td>\n",
       "      <td>full of russians</td>\n",
       "      <td>0</td>\n",
       "      <td>1</td>\n",
       "      <td>10</td>\n",
       "      <td>0</td>\n",
       "      <td>1</td>\n",
       "      <td>0</td>\n",
       "      <td>0</td>\n",
       "      <td>0</td>\n",
       "      <td>0</td>\n",
       "      <td>0</td>\n",
       "      <td>0</td>\n",
       "      <td>88</td>\n",
       "    </tr>\n",
       "    <tr>\n",
       "      <th>3932</th>\n",
       "      <td>10</td>\n",
       "      <td>Counter-Strike</td>\n",
       "      <td>Best Game, I dont recommend it though, very hi...</td>\n",
       "      <td>0</td>\n",
       "      <td>1</td>\n",
       "      <td>10</td>\n",
       "      <td>0</td>\n",
       "      <td>1</td>\n",
       "      <td>0</td>\n",
       "      <td>0</td>\n",
       "      <td>0</td>\n",
       "      <td>0</td>\n",
       "      <td>0</td>\n",
       "      <td>0</td>\n",
       "      <td>88</td>\n",
       "    </tr>\n",
       "  </tbody>\n",
       "</table>\n",
       "</div>"
      ],
      "text/plain": [
       "      app_id        app_name  \\\n",
       "2970      10  Counter-Strike   \n",
       "3291      10  Counter-Strike   \n",
       "3839      10  Counter-Strike   \n",
       "3931      10  Counter-Strike   \n",
       "3932      10  Counter-Strike   \n",
       "\n",
       "                                            review_text  review_score  \\\n",
       "2970  You are 14 years old, first time trying to pla...             0   \n",
       "3291                  Game full of cheaters nice valve.             0   \n",
       "3839                                    Eh, its alright             0   \n",
       "3931                                   full of russians             0   \n",
       "3932  Best Game, I dont recommend it though, very hi...             0   \n",
       "\n",
       "      review_votes  QueryID  IsFree  GenreIsAction  GenreIsAdventure  \\\n",
       "2970             1       10       0              1                 0   \n",
       "3291             0       10       0              1                 0   \n",
       "3839             0       10       0              1                 0   \n",
       "3931             1       10       0              1                 0   \n",
       "3932             1       10       0              1                 0   \n",
       "\n",
       "      GenreIsRPG  GenreIsSimulation  GenreIsStrategy  GenreIsSports  \\\n",
       "2970           0                  0                0              0   \n",
       "3291           0                  0                0              0   \n",
       "3839           0                  0                0              0   \n",
       "3931           0                  0                0              0   \n",
       "3932           0                  0                0              0   \n",
       "\n",
       "      GenreIsRacing  Metacritic  \n",
       "2970              0          88  \n",
       "3291              0          88  \n",
       "3839              0          88  \n",
       "3931              0          88  \n",
       "3932              0          88  "
      ]
     },
     "execution_count": 540,
     "metadata": {},
     "output_type": "execute_result"
    }
   ],
   "source": [
    "data[\"review_score\"] = data[\"review_score\"].replace([-1],0)\n",
    "data = data.replace([True],1)\n",
    "data = data.replace([False],0)\n",
    "data[data[\"review_score\"] != 1].head()"
   ]
  },
  {
   "cell_type": "code",
   "execution_count": 541,
   "metadata": {},
   "outputs": [],
   "source": [
    "data['totalwords'] = [len(x.split()) for x in data['review_text'].tolist()]"
   ]
  },
  {
   "cell_type": "code",
   "execution_count": 542,
   "metadata": {},
   "outputs": [
    {
     "data": {
      "text/html": [
       "<div>\n",
       "<style scoped>\n",
       "    .dataframe tbody tr th:only-of-type {\n",
       "        vertical-align: middle;\n",
       "    }\n",
       "\n",
       "    .dataframe tbody tr th {\n",
       "        vertical-align: top;\n",
       "    }\n",
       "\n",
       "    .dataframe thead th {\n",
       "        text-align: right;\n",
       "    }\n",
       "</style>\n",
       "<table border=\"1\" class=\"dataframe\">\n",
       "  <thead>\n",
       "    <tr style=\"text-align: right;\">\n",
       "      <th></th>\n",
       "      <th>app_id</th>\n",
       "      <th>app_name</th>\n",
       "      <th>review_text</th>\n",
       "      <th>review_score</th>\n",
       "      <th>review_votes</th>\n",
       "      <th>QueryID</th>\n",
       "      <th>IsFree</th>\n",
       "      <th>GenreIsAction</th>\n",
       "      <th>GenreIsAdventure</th>\n",
       "      <th>GenreIsRPG</th>\n",
       "      <th>GenreIsSimulation</th>\n",
       "      <th>GenreIsStrategy</th>\n",
       "      <th>GenreIsSports</th>\n",
       "      <th>GenreIsRacing</th>\n",
       "      <th>Metacritic</th>\n",
       "      <th>totalwords</th>\n",
       "    </tr>\n",
       "  </thead>\n",
       "  <tbody>\n",
       "    <tr>\n",
       "      <th>0</th>\n",
       "      <td>10</td>\n",
       "      <td>Counter-Strike</td>\n",
       "      <td>Ruined my life.</td>\n",
       "      <td>1</td>\n",
       "      <td>0</td>\n",
       "      <td>10</td>\n",
       "      <td>0</td>\n",
       "      <td>1</td>\n",
       "      <td>0</td>\n",
       "      <td>0</td>\n",
       "      <td>0</td>\n",
       "      <td>0</td>\n",
       "      <td>0</td>\n",
       "      <td>0</td>\n",
       "      <td>88</td>\n",
       "      <td>3</td>\n",
       "    </tr>\n",
       "    <tr>\n",
       "      <th>1</th>\n",
       "      <td>10</td>\n",
       "      <td>Counter-Strike</td>\n",
       "      <td>This will be more of a ''my experience with th...</td>\n",
       "      <td>1</td>\n",
       "      <td>1</td>\n",
       "      <td>10</td>\n",
       "      <td>0</td>\n",
       "      <td>1</td>\n",
       "      <td>0</td>\n",
       "      <td>0</td>\n",
       "      <td>0</td>\n",
       "      <td>0</td>\n",
       "      <td>0</td>\n",
       "      <td>0</td>\n",
       "      <td>88</td>\n",
       "      <td>449</td>\n",
       "    </tr>\n",
       "    <tr>\n",
       "      <th>2</th>\n",
       "      <td>10</td>\n",
       "      <td>Counter-Strike</td>\n",
       "      <td>This game saved my virginity.</td>\n",
       "      <td>1</td>\n",
       "      <td>0</td>\n",
       "      <td>10</td>\n",
       "      <td>0</td>\n",
       "      <td>1</td>\n",
       "      <td>0</td>\n",
       "      <td>0</td>\n",
       "      <td>0</td>\n",
       "      <td>0</td>\n",
       "      <td>0</td>\n",
       "      <td>0</td>\n",
       "      <td>88</td>\n",
       "      <td>5</td>\n",
       "    </tr>\n",
       "  </tbody>\n",
       "</table>\n",
       "</div>"
      ],
      "text/plain": [
       "   app_id        app_name                                        review_text  \\\n",
       "0      10  Counter-Strike                                    Ruined my life.   \n",
       "1      10  Counter-Strike  This will be more of a ''my experience with th...   \n",
       "2      10  Counter-Strike                      This game saved my virginity.   \n",
       "\n",
       "   review_score  review_votes  QueryID  IsFree  GenreIsAction  \\\n",
       "0             1             0       10       0              1   \n",
       "1             1             1       10       0              1   \n",
       "2             1             0       10       0              1   \n",
       "\n",
       "   GenreIsAdventure  GenreIsRPG  GenreIsSimulation  GenreIsStrategy  \\\n",
       "0                 0           0                  0                0   \n",
       "1                 0           0                  0                0   \n",
       "2                 0           0                  0                0   \n",
       "\n",
       "   GenreIsSports  GenreIsRacing  Metacritic  totalwords  \n",
       "0              0              0          88           3  \n",
       "1              0              0          88         449  \n",
       "2              0              0          88           5  "
      ]
     },
     "execution_count": 542,
     "metadata": {},
     "output_type": "execute_result"
    }
   ],
   "source": [
    "data.head(3)"
   ]
  },
  {
   "cell_type": "code",
   "execution_count": 543,
   "metadata": {},
   "outputs": [],
   "source": [
    "data = data[data[\"totalwords\"]> 50]"
   ]
  },
  {
   "cell_type": "code",
   "execution_count": 544,
   "metadata": {},
   "outputs": [
    {
     "data": {
      "text/html": [
       "<div>\n",
       "<style scoped>\n",
       "    .dataframe tbody tr th:only-of-type {\n",
       "        vertical-align: middle;\n",
       "    }\n",
       "\n",
       "    .dataframe tbody tr th {\n",
       "        vertical-align: top;\n",
       "    }\n",
       "\n",
       "    .dataframe thead th {\n",
       "        text-align: right;\n",
       "    }\n",
       "</style>\n",
       "<table border=\"1\" class=\"dataframe\">\n",
       "  <thead>\n",
       "    <tr style=\"text-align: right;\">\n",
       "      <th></th>\n",
       "      <th>app_name</th>\n",
       "      <th>app_id</th>\n",
       "      <th>review_score</th>\n",
       "      <th>review_votes</th>\n",
       "      <th>QueryID</th>\n",
       "      <th>IsFree</th>\n",
       "      <th>GenreIsAction</th>\n",
       "      <th>GenreIsAdventure</th>\n",
       "      <th>GenreIsRPG</th>\n",
       "      <th>GenreIsSimulation</th>\n",
       "      <th>GenreIsStrategy</th>\n",
       "      <th>GenreIsSports</th>\n",
       "      <th>GenreIsRacing</th>\n",
       "      <th>Metacritic</th>\n",
       "      <th>totalwords</th>\n",
       "    </tr>\n",
       "  </thead>\n",
       "  <tbody>\n",
       "    <tr>\n",
       "      <th>6992</th>\n",
       "      <td>Terraria</td>\n",
       "      <td>1844198400</td>\n",
       "      <td>16984</td>\n",
       "      <td>1738</td>\n",
       "      <td>1844198400</td>\n",
       "      <td>0</td>\n",
       "      <td>17464</td>\n",
       "      <td>17464</td>\n",
       "      <td>17464</td>\n",
       "      <td>0</td>\n",
       "      <td>0</td>\n",
       "      <td>0</td>\n",
       "      <td>0</td>\n",
       "      <td>1449512</td>\n",
       "      <td>2195903</td>\n",
       "    </tr>\n",
       "    <tr>\n",
       "      <th>7782</th>\n",
       "      <td>Undertale</td>\n",
       "      <td>5932222540</td>\n",
       "      <td>14375</td>\n",
       "      <td>1860</td>\n",
       "      <td>5932222540</td>\n",
       "      <td>0</td>\n",
       "      <td>0</td>\n",
       "      <td>0</td>\n",
       "      <td>15151</td>\n",
       "      <td>0</td>\n",
       "      <td>0</td>\n",
       "      <td>0</td>\n",
       "      <td>0</td>\n",
       "      <td>1393892</td>\n",
       "      <td>2321303</td>\n",
       "    </tr>\n",
       "    <tr>\n",
       "      <th>2592</th>\n",
       "      <td>Fallout: New Vegas</td>\n",
       "      <td>275542560</td>\n",
       "      <td>11376</td>\n",
       "      <td>1372</td>\n",
       "      <td>275542560</td>\n",
       "      <td>0</td>\n",
       "      <td>12312</td>\n",
       "      <td>0</td>\n",
       "      <td>12312</td>\n",
       "      <td>0</td>\n",
       "      <td>0</td>\n",
       "      <td>0</td>\n",
       "      <td>0</td>\n",
       "      <td>1034208</td>\n",
       "      <td>1867486</td>\n",
       "    </tr>\n",
       "    <tr>\n",
       "      <th>8023</th>\n",
       "      <td>Warframe</td>\n",
       "      <td>2780587880</td>\n",
       "      <td>10398</td>\n",
       "      <td>1476</td>\n",
       "      <td>2780587880</td>\n",
       "      <td>12068</td>\n",
       "      <td>12068</td>\n",
       "      <td>0</td>\n",
       "      <td>0</td>\n",
       "      <td>0</td>\n",
       "      <td>0</td>\n",
       "      <td>0</td>\n",
       "      <td>0</td>\n",
       "      <td>820624</td>\n",
       "      <td>2028898</td>\n",
       "    </tr>\n",
       "    <tr>\n",
       "      <th>5314</th>\n",
       "      <td>Portal 2</td>\n",
       "      <td>6321520</td>\n",
       "      <td>10028</td>\n",
       "      <td>786</td>\n",
       "      <td>6321520</td>\n",
       "      <td>0</td>\n",
       "      <td>10196</td>\n",
       "      <td>10196</td>\n",
       "      <td>0</td>\n",
       "      <td>0</td>\n",
       "      <td>0</td>\n",
       "      <td>0</td>\n",
       "      <td>0</td>\n",
       "      <td>968620</td>\n",
       "      <td>1135816</td>\n",
       "    </tr>\n",
       "    <tr>\n",
       "      <th>...</th>\n",
       "      <td>...</td>\n",
       "      <td>...</td>\n",
       "      <td>...</td>\n",
       "      <td>...</td>\n",
       "      <td>...</td>\n",
       "      <td>...</td>\n",
       "      <td>...</td>\n",
       "      <td>...</td>\n",
       "      <td>...</td>\n",
       "      <td>...</td>\n",
       "      <td>...</td>\n",
       "      <td>...</td>\n",
       "      <td>...</td>\n",
       "      <td>...</td>\n",
       "      <td>...</td>\n",
       "    </tr>\n",
       "    <tr>\n",
       "      <th>5564</th>\n",
       "      <td>Radial Impact</td>\n",
       "      <td>775780</td>\n",
       "      <td>0</td>\n",
       "      <td>1</td>\n",
       "      <td>775780</td>\n",
       "      <td>0</td>\n",
       "      <td>0</td>\n",
       "      <td>0</td>\n",
       "      <td>0</td>\n",
       "      <td>0</td>\n",
       "      <td>0</td>\n",
       "      <td>0</td>\n",
       "      <td>0</td>\n",
       "      <td>0</td>\n",
       "      <td>650</td>\n",
       "    </tr>\n",
       "    <tr>\n",
       "      <th>1952</th>\n",
       "      <td>Demolition Master 3D</td>\n",
       "      <td>577420</td>\n",
       "      <td>0</td>\n",
       "      <td>1</td>\n",
       "      <td>577420</td>\n",
       "      <td>0</td>\n",
       "      <td>0</td>\n",
       "      <td>0</td>\n",
       "      <td>0</td>\n",
       "      <td>2</td>\n",
       "      <td>0</td>\n",
       "      <td>0</td>\n",
       "      <td>0</td>\n",
       "      <td>0</td>\n",
       "      <td>187</td>\n",
       "    </tr>\n",
       "    <tr>\n",
       "      <th>1987</th>\n",
       "      <td>Destructamundo</td>\n",
       "      <td>323020</td>\n",
       "      <td>0</td>\n",
       "      <td>1</td>\n",
       "      <td>323020</td>\n",
       "      <td>0</td>\n",
       "      <td>0</td>\n",
       "      <td>0</td>\n",
       "      <td>0</td>\n",
       "      <td>0</td>\n",
       "      <td>0</td>\n",
       "      <td>0</td>\n",
       "      <td>0</td>\n",
       "      <td>0</td>\n",
       "      <td>272</td>\n",
       "    </tr>\n",
       "    <tr>\n",
       "      <th>2038</th>\n",
       "      <td>Diorama Battle of NINJA</td>\n",
       "      <td>464070</td>\n",
       "      <td>0</td>\n",
       "      <td>1</td>\n",
       "      <td>464070</td>\n",
       "      <td>0</td>\n",
       "      <td>1</td>\n",
       "      <td>0</td>\n",
       "      <td>0</td>\n",
       "      <td>0</td>\n",
       "      <td>0</td>\n",
       "      <td>0</td>\n",
       "      <td>0</td>\n",
       "      <td>0</td>\n",
       "      <td>418</td>\n",
       "    </tr>\n",
       "    <tr>\n",
       "      <th>2115</th>\n",
       "      <td>Doom Rails</td>\n",
       "      <td>124200</td>\n",
       "      <td>0</td>\n",
       "      <td>2</td>\n",
       "      <td>124200</td>\n",
       "      <td>0</td>\n",
       "      <td>3</td>\n",
       "      <td>0</td>\n",
       "      <td>0</td>\n",
       "      <td>0</td>\n",
       "      <td>0</td>\n",
       "      <td>0</td>\n",
       "      <td>0</td>\n",
       "      <td>0</td>\n",
       "      <td>457</td>\n",
       "    </tr>\n",
       "  </tbody>\n",
       "</table>\n",
       "<p>8434 rows × 15 columns</p>\n",
       "</div>"
      ],
      "text/plain": [
       "                     app_name      app_id  review_score  review_votes  \\\n",
       "6992                 Terraria  1844198400         16984          1738   \n",
       "7782                Undertale  5932222540         14375          1860   \n",
       "2592       Fallout: New Vegas   275542560         11376          1372   \n",
       "8023                 Warframe  2780587880         10398          1476   \n",
       "5314                 Portal 2     6321520         10028           786   \n",
       "...                       ...         ...           ...           ...   \n",
       "5564            Radial Impact      775780             0             1   \n",
       "1952     Demolition Master 3D      577420             0             1   \n",
       "1987           Destructamundo      323020             0             1   \n",
       "2038  Diorama Battle of NINJA      464070             0             1   \n",
       "2115               Doom Rails      124200             0             2   \n",
       "\n",
       "         QueryID  IsFree  GenreIsAction  GenreIsAdventure  GenreIsRPG  \\\n",
       "6992  1844198400       0          17464             17464       17464   \n",
       "7782  5932222540       0              0                 0       15151   \n",
       "2592   275542560       0          12312                 0       12312   \n",
       "8023  2780587880   12068          12068                 0           0   \n",
       "5314     6321520       0          10196             10196           0   \n",
       "...          ...     ...            ...               ...         ...   \n",
       "5564      775780       0              0                 0           0   \n",
       "1952      577420       0              0                 0           0   \n",
       "1987      323020       0              0                 0           0   \n",
       "2038      464070       0              1                 0           0   \n",
       "2115      124200       0              3                 0           0   \n",
       "\n",
       "      GenreIsSimulation  GenreIsStrategy  GenreIsSports  GenreIsRacing  \\\n",
       "6992                  0                0              0              0   \n",
       "7782                  0                0              0              0   \n",
       "2592                  0                0              0              0   \n",
       "8023                  0                0              0              0   \n",
       "5314                  0                0              0              0   \n",
       "...                 ...              ...            ...            ...   \n",
       "5564                  0                0              0              0   \n",
       "1952                  2                0              0              0   \n",
       "1987                  0                0              0              0   \n",
       "2038                  0                0              0              0   \n",
       "2115                  0                0              0              0   \n",
       "\n",
       "      Metacritic  totalwords  \n",
       "6992     1449512     2195903  \n",
       "7782     1393892     2321303  \n",
       "2592     1034208     1867486  \n",
       "8023      820624     2028898  \n",
       "5314      968620     1135816  \n",
       "...          ...         ...  \n",
       "5564           0         650  \n",
       "1952           0         187  \n",
       "1987           0         272  \n",
       "2038           0         418  \n",
       "2115           0         457  \n",
       "\n",
       "[8434 rows x 15 columns]"
      ]
     },
     "execution_count": 544,
     "metadata": {},
     "output_type": "execute_result"
    }
   ],
   "source": [
    "grouped = data.groupby(\"app_name\").sum().reset_index().sort_values(\"review_score\", ascending=False)\n",
    "grouped"
   ]
  },
  {
   "cell_type": "code",
   "execution_count": 545,
   "metadata": {},
   "outputs": [
    {
     "data": {
      "text/html": [
       "<div>\n",
       "<style scoped>\n",
       "    .dataframe tbody tr th:only-of-type {\n",
       "        vertical-align: middle;\n",
       "    }\n",
       "\n",
       "    .dataframe tbody tr th {\n",
       "        vertical-align: top;\n",
       "    }\n",
       "\n",
       "    .dataframe thead th {\n",
       "        text-align: right;\n",
       "    }\n",
       "</style>\n",
       "<table border=\"1\" class=\"dataframe\">\n",
       "  <thead>\n",
       "    <tr style=\"text-align: right;\">\n",
       "      <th></th>\n",
       "      <th>app_id</th>\n",
       "      <th>app_name</th>\n",
       "      <th>review_text</th>\n",
       "      <th>review_score</th>\n",
       "      <th>review_votes</th>\n",
       "      <th>QueryID</th>\n",
       "      <th>IsFree</th>\n",
       "      <th>GenreIsAction</th>\n",
       "      <th>GenreIsAdventure</th>\n",
       "      <th>GenreIsRPG</th>\n",
       "      <th>GenreIsSimulation</th>\n",
       "      <th>GenreIsStrategy</th>\n",
       "      <th>GenreIsSports</th>\n",
       "      <th>GenreIsRacing</th>\n",
       "      <th>Metacritic</th>\n",
       "      <th>totalwords</th>\n",
       "    </tr>\n",
       "  </thead>\n",
       "  <tbody>\n",
       "    <tr>\n",
       "      <th>1</th>\n",
       "      <td>10</td>\n",
       "      <td>Counter-Strike</td>\n",
       "      <td>This will be more of a ''my experience with th...</td>\n",
       "      <td>1</td>\n",
       "      <td>1</td>\n",
       "      <td>10</td>\n",
       "      <td>0</td>\n",
       "      <td>1</td>\n",
       "      <td>0</td>\n",
       "      <td>0</td>\n",
       "      <td>0</td>\n",
       "      <td>0</td>\n",
       "      <td>0</td>\n",
       "      <td>0</td>\n",
       "      <td>88</td>\n",
       "      <td>449</td>\n",
       "    </tr>\n",
       "    <tr>\n",
       "      <th>8</th>\n",
       "      <td>10</td>\n",
       "      <td>Counter-Strike</td>\n",
       "      <td>Counter-Strike: Ok, after 9 years of unlimited...</td>\n",
       "      <td>1</td>\n",
       "      <td>1</td>\n",
       "      <td>10</td>\n",
       "      <td>0</td>\n",
       "      <td>1</td>\n",
       "      <td>0</td>\n",
       "      <td>0</td>\n",
       "      <td>0</td>\n",
       "      <td>0</td>\n",
       "      <td>0</td>\n",
       "      <td>0</td>\n",
       "      <td>88</td>\n",
       "      <td>174</td>\n",
       "    </tr>\n",
       "    <tr>\n",
       "      <th>13</th>\n",
       "      <td>10</td>\n",
       "      <td>Counter-Strike</td>\n",
       "      <td>CS is one of the greatest and undermined games...</td>\n",
       "      <td>1</td>\n",
       "      <td>1</td>\n",
       "      <td>10</td>\n",
       "      <td>0</td>\n",
       "      <td>1</td>\n",
       "      <td>0</td>\n",
       "      <td>0</td>\n",
       "      <td>0</td>\n",
       "      <td>0</td>\n",
       "      <td>0</td>\n",
       "      <td>0</td>\n",
       "      <td>88</td>\n",
       "      <td>683</td>\n",
       "    </tr>\n",
       "    <tr>\n",
       "      <th>23</th>\n",
       "      <td>10</td>\n",
       "      <td>Counter-Strike</td>\n",
       "      <td>Blame this game for the rise of the online mul...</td>\n",
       "      <td>1</td>\n",
       "      <td>1</td>\n",
       "      <td>10</td>\n",
       "      <td>0</td>\n",
       "      <td>1</td>\n",
       "      <td>0</td>\n",
       "      <td>0</td>\n",
       "      <td>0</td>\n",
       "      <td>0</td>\n",
       "      <td>0</td>\n",
       "      <td>0</td>\n",
       "      <td>88</td>\n",
       "      <td>65</td>\n",
       "    </tr>\n",
       "    <tr>\n",
       "      <th>28</th>\n",
       "      <td>10</td>\n",
       "      <td>Counter-Strike</td>\n",
       "      <td>Update to my review with some shameless adve...</td>\n",
       "      <td>1</td>\n",
       "      <td>1</td>\n",
       "      <td>10</td>\n",
       "      <td>0</td>\n",
       "      <td>1</td>\n",
       "      <td>0</td>\n",
       "      <td>0</td>\n",
       "      <td>0</td>\n",
       "      <td>0</td>\n",
       "      <td>0</td>\n",
       "      <td>0</td>\n",
       "      <td>88</td>\n",
       "      <td>323</td>\n",
       "    </tr>\n",
       "    <tr>\n",
       "      <th>...</th>\n",
       "      <td>...</td>\n",
       "      <td>...</td>\n",
       "      <td>...</td>\n",
       "      <td>...</td>\n",
       "      <td>...</td>\n",
       "      <td>...</td>\n",
       "      <td>...</td>\n",
       "      <td>...</td>\n",
       "      <td>...</td>\n",
       "      <td>...</td>\n",
       "      <td>...</td>\n",
       "      <td>...</td>\n",
       "      <td>...</td>\n",
       "      <td>...</td>\n",
       "      <td>...</td>\n",
       "      <td>...</td>\n",
       "    </tr>\n",
       "    <tr>\n",
       "      <th>4565948</th>\n",
       "      <td>99910</td>\n",
       "      <td>Puzzle Pirates</td>\n",
       "      <td>I really ove this game but it needs somethings...</td>\n",
       "      <td>0</td>\n",
       "      <td>0</td>\n",
       "      <td>99910</td>\n",
       "      <td>1</td>\n",
       "      <td>0</td>\n",
       "      <td>1</td>\n",
       "      <td>0</td>\n",
       "      <td>0</td>\n",
       "      <td>1</td>\n",
       "      <td>0</td>\n",
       "      <td>0</td>\n",
       "      <td>0</td>\n",
       "      <td>104</td>\n",
       "    </tr>\n",
       "    <tr>\n",
       "      <th>4565949</th>\n",
       "      <td>99910</td>\n",
       "      <td>Puzzle Pirates</td>\n",
       "      <td>Used to play Puzzel Pirates 'way back when', b...</td>\n",
       "      <td>0</td>\n",
       "      <td>0</td>\n",
       "      <td>99910</td>\n",
       "      <td>1</td>\n",
       "      <td>0</td>\n",
       "      <td>1</td>\n",
       "      <td>0</td>\n",
       "      <td>0</td>\n",
       "      <td>1</td>\n",
       "      <td>0</td>\n",
       "      <td>0</td>\n",
       "      <td>0</td>\n",
       "      <td>86</td>\n",
       "    </tr>\n",
       "    <tr>\n",
       "      <th>4565950</th>\n",
       "      <td>99910</td>\n",
       "      <td>Puzzle Pirates</td>\n",
       "      <td>This game was aright, though a bit annoying. W...</td>\n",
       "      <td>0</td>\n",
       "      <td>0</td>\n",
       "      <td>99910</td>\n",
       "      <td>1</td>\n",
       "      <td>0</td>\n",
       "      <td>1</td>\n",
       "      <td>0</td>\n",
       "      <td>0</td>\n",
       "      <td>1</td>\n",
       "      <td>0</td>\n",
       "      <td>0</td>\n",
       "      <td>0</td>\n",
       "      <td>57</td>\n",
       "    </tr>\n",
       "    <tr>\n",
       "      <th>4565951</th>\n",
       "      <td>99910</td>\n",
       "      <td>Puzzle Pirates</td>\n",
       "      <td>I had a nice review to recommend this game, bu...</td>\n",
       "      <td>0</td>\n",
       "      <td>0</td>\n",
       "      <td>99910</td>\n",
       "      <td>1</td>\n",
       "      <td>0</td>\n",
       "      <td>1</td>\n",
       "      <td>0</td>\n",
       "      <td>0</td>\n",
       "      <td>1</td>\n",
       "      <td>0</td>\n",
       "      <td>0</td>\n",
       "      <td>0</td>\n",
       "      <td>62</td>\n",
       "    </tr>\n",
       "    <tr>\n",
       "      <th>4565952</th>\n",
       "      <td>99910</td>\n",
       "      <td>Puzzle Pirates</td>\n",
       "      <td>The puzzles in this game are fun, but you have...</td>\n",
       "      <td>0</td>\n",
       "      <td>0</td>\n",
       "      <td>99910</td>\n",
       "      <td>1</td>\n",
       "      <td>0</td>\n",
       "      <td>1</td>\n",
       "      <td>0</td>\n",
       "      <td>0</td>\n",
       "      <td>1</td>\n",
       "      <td>0</td>\n",
       "      <td>0</td>\n",
       "      <td>0</td>\n",
       "      <td>101</td>\n",
       "    </tr>\n",
       "  </tbody>\n",
       "</table>\n",
       "<p>1514155 rows × 16 columns</p>\n",
       "</div>"
      ],
      "text/plain": [
       "         app_id        app_name  \\\n",
       "1            10  Counter-Strike   \n",
       "8            10  Counter-Strike   \n",
       "13           10  Counter-Strike   \n",
       "23           10  Counter-Strike   \n",
       "28           10  Counter-Strike   \n",
       "...         ...             ...   \n",
       "4565948   99910  Puzzle Pirates   \n",
       "4565949   99910  Puzzle Pirates   \n",
       "4565950   99910  Puzzle Pirates   \n",
       "4565951   99910  Puzzle Pirates   \n",
       "4565952   99910  Puzzle Pirates   \n",
       "\n",
       "                                               review_text  review_score  \\\n",
       "1        This will be more of a ''my experience with th...             1   \n",
       "8        Counter-Strike: Ok, after 9 years of unlimited...             1   \n",
       "13       CS is one of the greatest and undermined games...             1   \n",
       "23       Blame this game for the rise of the online mul...             1   \n",
       "28         Update to my review with some shameless adve...             1   \n",
       "...                                                    ...           ...   \n",
       "4565948  I really ove this game but it needs somethings...             0   \n",
       "4565949  Used to play Puzzel Pirates 'way back when', b...             0   \n",
       "4565950  This game was aright, though a bit annoying. W...             0   \n",
       "4565951  I had a nice review to recommend this game, bu...             0   \n",
       "4565952  The puzzles in this game are fun, but you have...             0   \n",
       "\n",
       "         review_votes  QueryID  IsFree  GenreIsAction  GenreIsAdventure  \\\n",
       "1                   1       10       0              1                 0   \n",
       "8                   1       10       0              1                 0   \n",
       "13                  1       10       0              1                 0   \n",
       "23                  1       10       0              1                 0   \n",
       "28                  1       10       0              1                 0   \n",
       "...               ...      ...     ...            ...               ...   \n",
       "4565948             0    99910       1              0                 1   \n",
       "4565949             0    99910       1              0                 1   \n",
       "4565950             0    99910       1              0                 1   \n",
       "4565951             0    99910       1              0                 1   \n",
       "4565952             0    99910       1              0                 1   \n",
       "\n",
       "         GenreIsRPG  GenreIsSimulation  GenreIsStrategy  GenreIsSports  \\\n",
       "1                 0                  0                0              0   \n",
       "8                 0                  0                0              0   \n",
       "13                0                  0                0              0   \n",
       "23                0                  0                0              0   \n",
       "28                0                  0                0              0   \n",
       "...             ...                ...              ...            ...   \n",
       "4565948           0                  0                1              0   \n",
       "4565949           0                  0                1              0   \n",
       "4565950           0                  0                1              0   \n",
       "4565951           0                  0                1              0   \n",
       "4565952           0                  0                1              0   \n",
       "\n",
       "         GenreIsRacing  Metacritic  totalwords  \n",
       "1                    0          88         449  \n",
       "8                    0          88         174  \n",
       "13                   0          88         683  \n",
       "23                   0          88          65  \n",
       "28                   0          88         323  \n",
       "...                ...         ...         ...  \n",
       "4565948              0           0         104  \n",
       "4565949              0           0          86  \n",
       "4565950              0           0          57  \n",
       "4565951              0           0          62  \n",
       "4565952              0           0         101  \n",
       "\n",
       "[1514155 rows x 16 columns]"
      ]
     },
     "execution_count": 545,
     "metadata": {},
     "output_type": "execute_result"
    }
   ],
   "source": [
    "data = data[(data.GenreIsAction != 0) | (data.GenreIsAdventure != 0) | (data.GenreIsRPG != 0) | (data.GenreIsRacing != 0) | (data.GenreIsSimulation != 0) | (data.GenreIsSports != 0) | (data.GenreIsStrategy != 0)]\n",
    "data"
   ]
  },
  {
   "cell_type": "code",
   "execution_count": 546,
   "metadata": {},
   "outputs": [],
   "source": [
    "filtered_list = pd.DataFrame()"
   ]
  },
  {
   "cell_type": "code",
   "execution_count": 547,
   "metadata": {},
   "outputs": [],
   "source": [
    "filtered_list = filtered_list.append(grouped[grouped[\"GenreIsAction\"]>0].head(10))"
   ]
  },
  {
   "cell_type": "code",
   "execution_count": 548,
   "metadata": {},
   "outputs": [],
   "source": [
    "filtered_list = filtered_list.append(grouped[grouped[\"GenreIsAdventure\"]>0].head(10))"
   ]
  },
  {
   "cell_type": "code",
   "execution_count": 549,
   "metadata": {},
   "outputs": [],
   "source": [
    "filtered_list = filtered_list.append(grouped[grouped[\"GenreIsRPG\"]>0].head(10))"
   ]
  },
  {
   "cell_type": "code",
   "execution_count": 550,
   "metadata": {},
   "outputs": [],
   "source": [
    "filtered_list = filtered_list.append(grouped[grouped[\"GenreIsSimulation\"]>0].head(10))"
   ]
  },
  {
   "cell_type": "code",
   "execution_count": 551,
   "metadata": {},
   "outputs": [],
   "source": [
    "filtered_list = filtered_list.append(grouped[grouped[\"GenreIsStrategy\"]>0].head(10))"
   ]
  },
  {
   "cell_type": "code",
   "execution_count": 552,
   "metadata": {},
   "outputs": [],
   "source": [
    "filtered_list = filtered_list.append(grouped[grouped[\"GenreIsSports\"]>0].head(10))"
   ]
  },
  {
   "cell_type": "code",
   "execution_count": 553,
   "metadata": {},
   "outputs": [],
   "source": [
    "filtered_list = filtered_list.append(grouped[grouped[\"GenreIsRacing\"]>0].head(10))"
   ]
  },
  {
   "cell_type": "code",
   "execution_count": 554,
   "metadata": {},
   "outputs": [
    {
     "data": {
      "text/plain": [
       "(50, 15)"
      ]
     },
     "execution_count": 554,
     "metadata": {},
     "output_type": "execute_result"
    }
   ],
   "source": [
    "filtered_list = filtered_list.drop_duplicates()\n",
    "filtered_list.shape"
   ]
  },
  {
   "cell_type": "code",
   "execution_count": 555,
   "metadata": {},
   "outputs": [],
   "source": [
    "filter = data[\"review_text\"] != \"\"\n",
    "data = data[filter]"
   ]
  },
  {
   "cell_type": "code",
   "execution_count": 556,
   "metadata": {},
   "outputs": [
    {
     "data": {
      "text/plain": [
       "(50, 15)"
      ]
     },
     "execution_count": 556,
     "metadata": {},
     "output_type": "execute_result"
    }
   ],
   "source": [
    "filtered_data = data[data[\"app_name\"].isin(filtered_list.app_name.array)]\n",
    "filtered_data.groupby(\"app_name\").nunique().shape"
   ]
  },
  {
   "cell_type": "code",
   "execution_count": 557,
   "metadata": {},
   "outputs": [],
   "source": [
    "# select random sample of 1500 reviews per title\n",
    "ftop_data = []\n",
    "for item in filtered_data[\"app_id\"].unique():\n",
    "    ftop_data.append(filtered_data[filtered_data[\"app_id\"] == item].sample(n=1500, replace=True))"
   ]
  },
  {
   "cell_type": "code",
   "execution_count": 558,
   "metadata": {},
   "outputs": [],
   "source": [
    "ftop_data = pd.concat(ftop_data, ignore_index=True)"
   ]
  },
  {
   "cell_type": "code",
   "execution_count": 559,
   "metadata": {},
   "outputs": [],
   "source": [
    "negatives = data[data[\"review_score\"]==0].sample(n=37500)\n",
    "postives = data[data[\"review_score\"]==1].sample(n=37500)"
   ]
  },
  {
   "cell_type": "code",
   "execution_count": 560,
   "metadata": {},
   "outputs": [],
   "source": [
    "ftop_reviews = negatives.append(postives)"
   ]
  },
  {
   "cell_type": "code",
   "execution_count": 561,
   "metadata": {},
   "outputs": [
    {
     "data": {
      "text/plain": [
       "(array([37500.,     0.,     0.,     0.,     0.,     0.,     0.,     0.,\n",
       "            0., 37500.]),\n",
       " array([0. , 0.1, 0.2, 0.3, 0.4, 0.5, 0.6, 0.7, 0.8, 0.9, 1. ]),\n",
       " <BarContainer object of 10 artists>)"
      ]
     },
     "execution_count": 561,
     "metadata": {},
     "output_type": "execute_result"
    },
    {
     "data": {
      "image/png": "[encoded data removed]",
      "text/plain": [
       "<Figure size 720x432 with 1 Axes>"
      ]
     },
     "metadata": {
      "needs_background": "light"
     },
     "output_type": "display_data"
    }
   ],
   "source": [
    "plt.hist(ftop_reviews.review_score)"
   ]
  },
  {
   "cell_type": "code",
   "execution_count": 562,
   "metadata": {},
   "outputs": [],
   "source": [
    "data_ml = ftop_data.filter(items=[\"review_text\",\"GenreIsAction\",\"GenreIsAdventure\",\"GenreIsRPG\",\"GenreIsSimulation\",\"GenreIsStrategy\",\"GenreIsSports\",\"GenreIsRacing\"], axis=1)\n",
    "data_sa = ftop_reviews.filter(items=[\"review_text\",\"review_score\"], axis=1)"
   ]
  },
  {
   "cell_type": "code",
   "execution_count": 563,
   "metadata": {},
   "outputs": [
    {
     "data": {
      "text/html": [
       "<div>\n",
       "<style scoped>\n",
       "    .dataframe tbody tr th:only-of-type {\n",
       "        vertical-align: middle;\n",
       "    }\n",
       "\n",
       "    .dataframe tbody tr th {\n",
       "        vertical-align: top;\n",
       "    }\n",
       "\n",
       "    .dataframe thead th {\n",
       "        text-align: right;\n",
       "    }\n",
       "</style>\n",
       "<table border=\"1\" class=\"dataframe\">\n",
       "  <thead>\n",
       "    <tr style=\"text-align: right;\">\n",
       "      <th></th>\n",
       "      <th>GenreIsAction</th>\n",
       "      <th>GenreIsAdventure</th>\n",
       "      <th>GenreIsRPG</th>\n",
       "      <th>GenreIsSimulation</th>\n",
       "      <th>GenreIsStrategy</th>\n",
       "      <th>GenreIsSports</th>\n",
       "      <th>GenreIsRacing</th>\n",
       "    </tr>\n",
       "  </thead>\n",
       "  <tbody>\n",
       "    <tr>\n",
       "      <th>0</th>\n",
       "      <td>1</td>\n",
       "      <td>1</td>\n",
       "      <td>1</td>\n",
       "      <td>0</td>\n",
       "      <td>0</td>\n",
       "      <td>0</td>\n",
       "      <td>0</td>\n",
       "    </tr>\n",
       "    <tr>\n",
       "      <th>1</th>\n",
       "      <td>1</td>\n",
       "      <td>1</td>\n",
       "      <td>1</td>\n",
       "      <td>0</td>\n",
       "      <td>0</td>\n",
       "      <td>0</td>\n",
       "      <td>0</td>\n",
       "    </tr>\n",
       "    <tr>\n",
       "      <th>2</th>\n",
       "      <td>1</td>\n",
       "      <td>1</td>\n",
       "      <td>1</td>\n",
       "      <td>0</td>\n",
       "      <td>0</td>\n",
       "      <td>0</td>\n",
       "      <td>0</td>\n",
       "    </tr>\n",
       "    <tr>\n",
       "      <th>3</th>\n",
       "      <td>1</td>\n",
       "      <td>1</td>\n",
       "      <td>1</td>\n",
       "      <td>0</td>\n",
       "      <td>0</td>\n",
       "      <td>0</td>\n",
       "      <td>0</td>\n",
       "    </tr>\n",
       "    <tr>\n",
       "      <th>4</th>\n",
       "      <td>1</td>\n",
       "      <td>1</td>\n",
       "      <td>1</td>\n",
       "      <td>0</td>\n",
       "      <td>0</td>\n",
       "      <td>0</td>\n",
       "      <td>0</td>\n",
       "    </tr>\n",
       "  </tbody>\n",
       "</table>\n",
       "</div>"
      ],
      "text/plain": [
       "   GenreIsAction  GenreIsAdventure  GenreIsRPG  GenreIsSimulation  \\\n",
       "0              1                 1           1                  0   \n",
       "1              1                 1           1                  0   \n",
       "2              1                 1           1                  0   \n",
       "3              1                 1           1                  0   \n",
       "4              1                 1           1                  0   \n",
       "\n",
       "   GenreIsStrategy  GenreIsSports  GenreIsRacing  \n",
       "0                0              0              0  \n",
       "1                0              0              0  \n",
       "2                0              0              0  \n",
       "3                0              0              0  \n",
       "4                0              0              0  "
      ]
     },
     "execution_count": 563,
     "metadata": {},
     "output_type": "execute_result"
    }
   ],
   "source": [
    "genre_labels = data_ml[[\"GenreIsAction\",\"GenreIsAdventure\",\"GenreIsRPG\",\"GenreIsSimulation\",\"GenreIsStrategy\",\"GenreIsSports\",\"GenreIsRacing\"]]\n",
    "genre_labels.head()"
   ]
  },
  {
   "cell_type": "code",
   "execution_count": 564,
   "metadata": {},
   "outputs": [
    {
     "name": "stderr",
     "output_type": "stream",
     "text": [
      "[nltk_data] Downloading package stopwords to\n",
      "[nltk_data]     C:\\Users\\Asad\\AppData\\Roaming\\nltk_data...\n",
      "[nltk_data]   Package stopwords is already up-to-date!\n",
      "[nltk_data] Downloading package punkt to\n",
      "[nltk_data]     C:\\Users\\Asad\\AppData\\Roaming\\nltk_data...\n",
      "[nltk_data]   Package punkt is already up-to-date!\n"
     ]
    }
   ],
   "source": [
    "import nltk\n",
    "from nltk.corpus import stopwords\n",
    "from nltk.stem import WordNetLemmatizer\n",
    "nltk.download('stopwords')\n",
    "nltk.download('punkt')\n",
    "stopwords = stopwords.words('english')"
   ]
  },
  {
   "cell_type": "code",
   "execution_count": 565,
   "metadata": {},
   "outputs": [],
   "source": [
    "def preprocess(nsen):\n",
    "    # remove punctuation and numerical values\n",
    "    sentence = re.sub(\"[^a-zA-Z]\",\" \", nsen)\n",
    "    # remove individual characters\n",
    "    sentence = re.sub(r\"\\s+[a-zA-Z]\\s+\", \" \", sentence)\n",
    "    # remove urls\n",
    "    sentence = re.sub(r'http\\S+', '', sentence)\n",
    "    # remove the word game and games\n",
    "    sentence = re.sub(r\"\\bgame\\b\",\" \", sentence)\n",
    "    sentence = re.sub(r\"\\bgames\\b\",\" \", sentence)\n",
    "    # remove stopwords from text\n",
    "    sentence = ' '.join(word for word in sentence.split() if word not in stopwords) \n",
    "    # remove extra white space\n",
    "    sentence = re.sub(r\"\\s+\",\" \", sentence)\n",
    "\n",
    "    return sentence"
   ]
  },
  {
   "cell_type": "markdown",
   "metadata": {},
   "source": [
    "# Data Exploration"
   ]
  },
  {
   "cell_type": "code",
   "execution_count": 566,
   "metadata": {},
   "outputs": [
    {
     "data": {
      "text/plain": [
       "<AxesSubplot:>"
      ]
     },
     "execution_count": 566,
     "metadata": {},
     "output_type": "execute_result"
    },
    {
     "data": {
      "image/png": "[encoded data removed]",
      "text/plain": [
       "<Figure size 720x432 with 1 Axes>"
      ]
     },
     "metadata": {
      "needs_background": "light"
     },
     "output_type": "display_data"
    }
   ],
   "source": [
    "plt.rcParams[\"figure.figsize\"][0] = 10\n",
    "plt.rcParams[\"figure.figsize\"][1] = 6\n",
    "genre_labels.sum(axis=0).plot.bar()"
   ]
  },
  {
   "cell_type": "code",
   "execution_count": 567,
   "metadata": {},
   "outputs": [
    {
     "data": {
      "text/plain": [
       "<matplotlib.legend.Legend at 0x230daaf5b20>"
      ]
     },
     "execution_count": 567,
     "metadata": {},
     "output_type": "execute_result"
    },
    {
     "data": {
      "image/png": "[encoded data removed]",
      "text/plain": [
       "<Figure size 720x432 with 1 Axes>"
      ]
     },
     "metadata": {
      "needs_background": "light"
     },
     "output_type": "display_data"
    }
   ],
   "source": [
    "# plot distribution of review length\n",
    "plt.hist([ftop_reviews.totalwords[ftop_reviews.review_score==1],ftop_reviews.totalwords[ftop_reviews.review_score==0]])\n",
    "plt.xlabel('Total Words')\n",
    "plt.ylabel('Review Count')\n",
    "plt.legend(['Recommended', 'Not Recommended'])"
   ]
  },
  {
   "cell_type": "code",
   "execution_count": 568,
   "metadata": {},
   "outputs": [],
   "source": [
    "# create cleaned sets for exploration\n",
    "cdata_ml = data_ml\n",
    "cdata_ml[\"review_text\"] = cdata_ml[\"review_text\"].apply(preprocess)\n",
    "cdata_sa = data_sa\n",
    "cdata_sa[\"review_text\"] = cdata_sa[\"review_text\"].apply(preprocess)"
   ]
  },
  {
   "cell_type": "code",
   "execution_count": 569,
   "metadata": {},
   "outputs": [
    {
     "data": {
      "text/plain": [
       "Text(0, 0.5, 'Review Count')"
      ]
     },
     "execution_count": 569,
     "metadata": {},
     "output_type": "execute_result"
    },
    {
     "data": {
      "image/png": "[encoded data removed]",
      "text/plain": [
       "<Figure size 720x432 with 1 Axes>"
      ]
     },
     "metadata": {
      "needs_background": "light"
     },
     "output_type": "display_data"
    }
   ],
   "source": [
    "plt.hist(cdata_sa[\"review_score\"])\n",
    "plt.xlabel('Review Score')\n",
    "plt.ylabel('Review Count')"
   ]
  },
  {
   "cell_type": "code",
   "execution_count": 570,
   "metadata": {},
   "outputs": [],
   "source": [
    "from sklearn.feature_extraction.text import CountVectorizer"
   ]
  },
  {
   "cell_type": "code",
   "execution_count": 571,
   "metadata": {},
   "outputs": [
    {
     "name": "stdout",
     "output_type": "stream",
     "text": [
      "feel like 3728\n",
      "total war 3646\n",
      "single player 2722\n",
      "open world 2320\n",
      "feels like 2133\n",
      "long time 2095\n",
      "highly recommend 2009\n",
      "fun play 1984\n",
      "really good 1917\n",
      "want play 1645\n",
      "dark souls 1572\n",
      "best played 1525\n",
      "real life 1512\n",
      "voice acting 1503\n",
      "tomb raider 1496\n",
      "really fun 1454\n",
      "pretty good 1428\n",
      "dlc dlc 1368\n",
      "mario kart 1336\n",
      "play friends 1320\n"
     ]
    },
    {
     "data": {
      "text/plain": [
       "<AxesSubplot:xlabel='review_text'>"
      ]
     },
     "execution_count": 571,
     "metadata": {},
     "output_type": "execute_result"
    },
    {
     "data": {
      "image/png": "[encoded data removed]",
      "text/plain": [
       "<Figure size 720x432 with 1 Axes>"
      ]
     },
     "metadata": {
      "needs_background": "light"
     },
     "output_type": "display_data"
    }
   ],
   "source": [
    "def top_n(corpus, n=None, m=1):\n",
    "    vectorizer = CountVectorizer(ngram_range=(m,m), stop_words = 'english').fit(corpus)\n",
    "    bag_of_w = vectorizer.transform(corpus)\n",
    "    words_sum = bag_of_w.sum(axis=0) \n",
    "    freq_w = [(word, words_sum[0, idx]) for word, idx in vectorizer.vocabulary_.items()]\n",
    "    freq_w = sorted(freq_w, key = lambda x: x[1], reverse=True)\n",
    "    return freq_w[:n]\n",
    "\n",
    "pop_words = top_n(cdata_ml['review_text'], 20, 2)\n",
    "for word, frequency in pop_words:\n",
    "    print(word, frequency)\n",
    "pop_wdf = pd.DataFrame(pop_words, columns = ['review_text' , 'count'])\n",
    "pop_wdf.groupby('review_text').sum()['count'].sort_values(ascending=False).plot(kind='bar')"
   ]
  },
  {
   "cell_type": "markdown",
   "metadata": {},
   "source": [
    "# Multilabel Classification"
   ]
  },
  {
   "cell_type": "code",
   "execution_count": 572,
   "metadata": {},
   "outputs": [],
   "source": [
    "X = []\n",
    "reviews = list(data_ml[\"review_text\"])\n",
    "for sentence in reviews:\n",
    "    X.append(preprocess(sentence))\n",
    "y = genre_labels.values"
   ]
  },
  {
   "cell_type": "markdown",
   "metadata": {},
   "source": [
    "## Multilabel Classification Base Model"
   ]
  },
  {
   "cell_type": "code",
   "execution_count": 573,
   "metadata": {},
   "outputs": [],
   "source": [
    "from sklearn.model_selection import train_test_split"
   ]
  },
  {
   "cell_type": "code",
   "execution_count": 574,
   "metadata": {},
   "outputs": [],
   "source": [
    "X_train, X_test, y_train, y_test = train_test_split(X, y, test_size=0.3, random_state=333)"
   ]
  },
  {
   "cell_type": "code",
   "execution_count": 575,
   "metadata": {},
   "outputs": [],
   "source": [
    "from keras.preprocessing.text import Tokenizer\n",
    "from keras.preprocessing.sequence import pad_sequences"
   ]
  },
  {
   "cell_type": "code",
   "execution_count": 576,
   "metadata": {},
   "outputs": [],
   "source": [
    "tokenizer = Tokenizer(num_words=5000)\n",
    "tokenizer.fit_on_texts(X_train)\n",
    "\n",
    "X_train = tokenizer.texts_to_sequences(X_train)\n",
    "X_test = tokenizer.texts_to_sequences(X_test)\n",
    "\n",
    "vocab_len = len(tokenizer.word_index) + 1\n",
    "\n",
    "maxlen = 250\n",
    "embedding_dim = 100\n",
    "\n",
    "X_train = pad_sequences(X_train, padding='post', maxlen=maxlen)\n",
    "X_test = pad_sequences(X_test, padding='post', maxlen=maxlen)"
   ]
  },
  {
   "cell_type": "code",
   "execution_count": 577,
   "metadata": {},
   "outputs": [],
   "source": [
    "from keras.models import Sequential\n",
    "from keras.layers.core import Dense\n",
    "from keras.layers import LSTM, SpatialDropout1D, InputLayer, BatchNormalization, Dropout, Bidirectional\n",
    "from keras.models import Model\n",
    "from keras.callbacks import EarlyStopping\n",
    "from keras.layers.embeddings import Embedding"
   ]
  },
  {
   "cell_type": "code",
   "execution_count": 578,
   "metadata": {},
   "outputs": [
    {
     "name": "stdout",
     "output_type": "stream",
     "text": [
      "Epoch 1/50\n",
      "370/370 [==============================] - 554s 1s/step - loss: 0.4623 - categorical_accuracy: 0.4503 - val_loss: 0.2310 - val_categorical_accuracy: 0.6429\n",
      "Epoch 2/50\n",
      "370/370 [==============================] - 496s 1s/step - loss: 0.1723 - categorical_accuracy: 0.5361 - val_loss: 0.1594 - val_categorical_accuracy: 0.4928\n",
      "Epoch 3/50\n",
      "370/370 [==============================] - 507s 1s/step - loss: 0.1382 - categorical_accuracy: 0.5269 - val_loss: 0.1420 - val_categorical_accuracy: 0.5246\n",
      "Epoch 4/50\n",
      "370/370 [==============================] - 503s 1s/step - loss: 0.1176 - categorical_accuracy: 0.5237 - val_loss: 0.1431 - val_categorical_accuracy: 0.4794\n",
      "Epoch 5/50\n",
      "370/370 [==============================] - 502s 1s/step - loss: 0.1046 - categorical_accuracy: 0.5206 - val_loss: 0.1322 - val_categorical_accuracy: 0.4952\n",
      "Epoch 6/50\n",
      "370/370 [==============================] - 503s 1s/step - loss: 0.0981 - categorical_accuracy: 0.5439 - val_loss: 0.1325 - val_categorical_accuracy: 0.5059\n",
      "Epoch 7/50\n",
      "370/370 [==============================] - 503s 1s/step - loss: 0.0898 - categorical_accuracy: 0.5670 - val_loss: 0.1367 - val_categorical_accuracy: 0.4989\n",
      "Epoch 8/50\n",
      "370/370 [==============================] - 500s 1s/step - loss: 0.0854 - categorical_accuracy: 0.5444 - val_loss: 0.1381 - val_categorical_accuracy: 0.4459\n",
      "Epoch 9/50\n",
      "370/370 [==============================] - 502s 1s/step - loss: 0.0817 - categorical_accuracy: 0.5480 - val_loss: 0.1446 - val_categorical_accuracy: 0.4699\n",
      "Epoch 10/50\n",
      "370/370 [==============================] - 501s 1s/step - loss: 0.0810 - categorical_accuracy: 0.5698 - val_loss: 0.1330 - val_categorical_accuracy: 0.5400\n"
     ]
    }
   ],
   "source": [
    "b_model = Sequential()\n",
    "b_model.add(Embedding(vocab_len, embedding_dim, input_length=X_train.shape[1]))\n",
    "b_model.add(SpatialDropout1D(0.2))\n",
    "b_model.add(Bidirectional(LSTM(64, dropout=0.2, recurrent_dropout=0.2)))\n",
    "b_model.add(BatchNormalization())\n",
    "b_model.add(Dropout(0.2))\n",
    "b_model.add(Dense(7, activation='sigmoid'))\n",
    "b_model.compile(loss='binary_crossentropy', optimizer='adam', metrics=[\"categorical_accuracy\"])\n",
    "\n",
    "epochs = 50\n",
    "batch_size = 128\n",
    "\n",
    "b_history = b_model.fit(X_train, y_train, epochs=epochs, batch_size=batch_size,validation_split=0.1,callbacks=[EarlyStopping(monitor='val_loss', patience=5, min_delta=0.0001)])"
   ]
  },
  {
   "cell_type": "code",
   "execution_count": 579,
   "metadata": {},
   "outputs": [
    {
     "name": "stdout",
     "output_type": "stream",
     "text": [
      "Model: \"sequential_21\"\n",
      "_________________________________________________________________\n",
      "Layer (type)                 Output Shape              Param #   \n",
      "=================================================================\n",
      "embedding_21 (Embedding)     (None, 250, 100)          7029500   \n",
      "_________________________________________________________________\n",
      "spatial_dropout1d_21 (Spatia (None, 250, 100)          0         \n",
      "_________________________________________________________________\n",
      "bidirectional_21 (Bidirectio (None, 128)               84480     \n",
      "_________________________________________________________________\n",
      "batch_normalization_21 (Batc (None, 128)               512       \n",
      "_________________________________________________________________\n",
      "dropout_21 (Dropout)         (None, 128)               0         \n",
      "_________________________________________________________________\n",
      "dense_21 (Dense)             (None, 7)                 903       \n",
      "=================================================================\n",
      "Total params: 7,115,395\n",
      "Trainable params: 7,115,139\n",
      "Non-trainable params: 256\n",
      "_________________________________________________________________\n"
     ]
    }
   ],
   "source": [
    "b_model.summary()"
   ]
  },
  {
   "cell_type": "code",
   "execution_count": 580,
   "metadata": {},
   "outputs": [
    {
     "data": {
      "image/png": "[encoded data removed]",
      "text/plain": [
       "<Figure size 720x432 with 1 Axes>"
      ]
     },
     "metadata": {
      "needs_background": "light"
     },
     "output_type": "display_data"
    }
   ],
   "source": [
    "plt.title('Loss')\n",
    "plt.plot(b_history.history['loss'], label='train')\n",
    "plt.plot(b_history.history['val_loss'], label='validation')\n",
    "plt.ylabel('Loss')\n",
    "plt.xlabel('Epoch')\n",
    "plt.legend()\n",
    "plt.show()"
   ]
  },
  {
   "cell_type": "code",
   "execution_count": 581,
   "metadata": {},
   "outputs": [
    {
     "data": {
      "image/png": "[encoded data removed]",
      "text/plain": [
       "<Figure size 720x432 with 1 Axes>"
      ]
     },
     "metadata": {
      "needs_background": "light"
     },
     "output_type": "display_data"
    }
   ],
   "source": [
    "plt.title('Accuracy')\n",
    "plt.plot(b_history.history['categorical_accuracy'], label='train')\n",
    "plt.plot(b_history.history['val_categorical_accuracy'], label='validation')\n",
    "plt.ylabel('Accuracy')\n",
    "plt.xlabel('Epoch')\n",
    "plt.legend()\n",
    "plt.show()"
   ]
  },
  {
   "cell_type": "code",
   "execution_count": 582,
   "metadata": {},
   "outputs": [],
   "source": [
    "from sklearn.metrics import accuracy_score, classification_report, multilabel_confusion_matrix"
   ]
  },
  {
   "cell_type": "code",
   "execution_count": 583,
   "metadata": {},
   "outputs": [],
   "source": [
    "b_preds = b_model.predict(X_test)"
   ]
  },
  {
   "cell_type": "code",
   "execution_count": 662,
   "metadata": {},
   "outputs": [
    {
     "data": {
      "text/plain": [
       "array([0., 0., 0., 1., 0., 1., 1.], dtype=float32)"
      ]
     },
     "execution_count": 662,
     "metadata": {},
     "output_type": "execute_result"
    }
   ],
   "source": [
    "b_preds_rounded = b_preds.round()\n",
    "b_preds_rounded[123]"
   ]
  },
  {
   "cell_type": "code",
   "execution_count": 663,
   "metadata": {},
   "outputs": [
    {
     "data": {
      "text/plain": [
       "1"
      ]
     },
     "execution_count": 663,
     "metadata": {},
     "output_type": "execute_result"
    }
   ],
   "source": [
    "y_test[123]"
   ]
  },
  {
   "cell_type": "code",
   "execution_count": 586,
   "metadata": {},
   "outputs": [],
   "source": [
    "from sklearn.metrics import hamming_loss"
   ]
  },
  {
   "cell_type": "code",
   "execution_count": 587,
   "metadata": {},
   "outputs": [
    {
     "name": "stdout",
     "output_type": "stream",
     "text": [
      "Hamming loss is  0.047104761904761906\n",
      "              precision    recall  f1-score   support\n",
      "\n",
      "           0       0.93      0.94      0.94     12617\n",
      "           1       0.93      0.86      0.89      6802\n",
      "           2       0.89      0.84      0.87      4978\n",
      "           3       0.93      0.91      0.92      6725\n",
      "           4       0.92      0.89      0.90      4902\n",
      "           5       0.95      0.93      0.94      4511\n",
      "           6       0.95      0.92      0.93      4540\n",
      "\n",
      "   micro avg       0.93      0.90      0.92     45075\n",
      "   macro avg       0.93      0.90      0.91     45075\n",
      "weighted avg       0.93      0.90      0.92     45075\n",
      " samples avg       0.92      0.91      0.90     45075\n",
      "\n"
     ]
    },
    {
     "name": "stderr",
     "output_type": "stream",
     "text": [
      "C:\\Users\\Asad\\AppData\\Local\\Programs\\Python\\Python39\\lib\\site-packages\\sklearn\\metrics\\_classification.py:1248: UndefinedMetricWarning: Precision and F-score are ill-defined and being set to 0.0 in samples with no predicted labels. Use `zero_division` parameter to control this behavior.\n",
      "  _warn_prf(average, modifier, msg_start, len(result))\n"
     ]
    }
   ],
   "source": [
    "# b_preds = np.argmax(gl_preds, axis=1)\n",
    "print('Hamming loss is ', hamming_loss(y_test, b_preds.round()))\n",
    "b_report = classification_report(y_test, b_preds.round())\n",
    "print(b_report)"
   ]
  },
  {
   "cell_type": "markdown",
   "metadata": {},
   "source": [
    "## Multilabel Classification Using GloVe Embeddings"
   ]
  },
  {
   "cell_type": "code",
   "execution_count": 588,
   "metadata": {},
   "outputs": [],
   "source": [
    "X_train, X_test, y_train, y_test = train_test_split(X, y, test_size=0.3, random_state=333)"
   ]
  },
  {
   "cell_type": "code",
   "execution_count": 589,
   "metadata": {},
   "outputs": [],
   "source": [
    "tokenizer = Tokenizer(num_words=5000)\n",
    "tokenizer.fit_on_texts(X_train)\n",
    "\n",
    "X_train = tokenizer.texts_to_sequences(X_train)\n",
    "X_test = tokenizer.texts_to_sequences(X_test)\n",
    "\n",
    "vocab_len = len(tokenizer.word_index) + 1\n",
    "\n",
    "maxlen = 250\n",
    "\n",
    "X_train = pad_sequences(X_train, padding='post', maxlen=maxlen)\n",
    "X_test = pad_sequences(X_test, padding='post', maxlen=maxlen)"
   ]
  },
  {
   "cell_type": "code",
   "execution_count": 590,
   "metadata": {},
   "outputs": [
    {
     "name": "stdout",
     "output_type": "stream",
     "text": [
      "(52500, 250) (52500, 7)\n",
      "(22500, 250) (22500, 7)\n"
     ]
    }
   ],
   "source": [
    "print(X_train.shape, y_train.shape)\n",
    "print(X_test.shape,y_test.shape)"
   ]
  },
  {
   "cell_type": "code",
   "execution_count": 591,
   "metadata": {},
   "outputs": [],
   "source": [
    "embedding_dict = dict()\n",
    "embedding_dim = 100\n",
    "\n",
    "glove_input_file = open('glove.twitter.27B.100d.txt', encoding=\"utf8\")\n",
    "\n",
    "for item in glove_input_file:\n",
    "    items = item.split(' ')\n",
    "    word = items[0]\n",
    "    coeff = asarray(items[1:], dtype='float32')\n",
    "    embedding_dict[word] = coeff\n",
    "glove_input_file.close()\n",
    "\n",
    "embedding_matrix = zeros((vocab_len, embedding_dim))\n",
    "for word, index in tokenizer.word_index.items():\n",
    "    embedding_vec = embedding_dict.get(word)\n",
    "    if embedding_vec is not None:\n",
    "        embedding_matrix[index] = embedding_vec"
   ]
  },
  {
   "cell_type": "code",
   "execution_count": 592,
   "metadata": {},
   "outputs": [
    {
     "name": "stdout",
     "output_type": "stream",
     "text": [
      "Epoch 1/50\n",
      "370/370 [==============================] - 542s 1s/step - loss: 0.6136 - categorical_accuracy: 0.3356 - val_loss: 0.3068 - val_categorical_accuracy: 0.5973\n",
      "Epoch 2/50\n",
      "370/370 [==============================] - 509s 1s/step - loss: 0.3060 - categorical_accuracy: 0.5767 - val_loss: 0.1872 - val_categorical_accuracy: 0.5175\n",
      "Epoch 3/50\n",
      "370/370 [==============================] - 514s 1s/step - loss: 0.2092 - categorical_accuracy: 0.5685 - val_loss: 0.1499 - val_categorical_accuracy: 0.5461\n",
      "Epoch 4/50\n",
      "370/370 [==============================] - 509s 1s/step - loss: 0.1671 - categorical_accuracy: 0.5839 - val_loss: 0.1296 - val_categorical_accuracy: 0.5922\n",
      "Epoch 5/50\n",
      "370/370 [==============================] - 509s 1s/step - loss: 0.1486 - categorical_accuracy: 0.5782 - val_loss: 0.1221 - val_categorical_accuracy: 0.5404\n",
      "Epoch 6/50\n",
      "370/370 [==============================] - 509s 1s/step - loss: 0.1343 - categorical_accuracy: 0.5898 - val_loss: 0.1193 - val_categorical_accuracy: 0.5716\n",
      "Epoch 7/50\n",
      "370/370 [==============================] - 510s 1s/step - loss: 0.1252 - categorical_accuracy: 0.5861 - val_loss: 0.1142 - val_categorical_accuracy: 0.5882\n",
      "Epoch 8/50\n",
      "370/370 [==============================] - 508s 1s/step - loss: 0.1177 - categorical_accuracy: 0.5903 - val_loss: 0.1131 - val_categorical_accuracy: 0.6158\n",
      "Epoch 9/50\n",
      "370/370 [==============================] - 508s 1s/step - loss: 0.1092 - categorical_accuracy: 0.5798 - val_loss: 0.1112 - val_categorical_accuracy: 0.5598\n",
      "Epoch 10/50\n",
      "370/370 [==============================] - 545s 1s/step - loss: 0.1037 - categorical_accuracy: 0.5894 - val_loss: 0.1125 - val_categorical_accuracy: 0.5274\n",
      "Epoch 11/50\n",
      "370/370 [==============================] - 524s 1s/step - loss: 0.0986 - categorical_accuracy: 0.5858 - val_loss: 0.1089 - val_categorical_accuracy: 0.5482\n",
      "Epoch 12/50\n",
      "370/370 [==============================] - 528s 1s/step - loss: 0.0919 - categorical_accuracy: 0.5828 - val_loss: 0.1049 - val_categorical_accuracy: 0.5429\n",
      "Epoch 13/50\n",
      "370/370 [==============================] - 502s 1s/step - loss: 0.0880 - categorical_accuracy: 0.5878 - val_loss: 0.1092 - val_categorical_accuracy: 0.5771\n",
      "Epoch 14/50\n",
      "370/370 [==============================] - 503s 1s/step - loss: 0.0858 - categorical_accuracy: 0.5878 - val_loss: 0.1071 - val_categorical_accuracy: 0.5493\n",
      "Epoch 15/50\n",
      "370/370 [==============================] - 520s 1s/step - loss: 0.0802 - categorical_accuracy: 0.5818 - val_loss: 0.1056 - val_categorical_accuracy: 0.5168\n",
      "Epoch 16/50\n",
      "370/370 [==============================] - 536s 1s/step - loss: 0.0767 - categorical_accuracy: 0.5864 - val_loss: 0.1120 - val_categorical_accuracy: 0.5783\n",
      "Epoch 17/50\n",
      "370/370 [==============================] - 536s 1s/step - loss: 0.0753 - categorical_accuracy: 0.5905 - val_loss: 0.1141 - val_categorical_accuracy: 0.5524\n"
     ]
    }
   ],
   "source": [
    "gl_model = Sequential()\n",
    "gl_model.add(Embedding(vocab_len, embedding_dim, weights=[embedding_matrix], input_length=X_train.shape[1]))\n",
    "gl_model.add(SpatialDropout1D(0.2))\n",
    "gl_model.add(Bidirectional(LSTM(64, dropout=0.2, recurrent_dropout=0.2)))\n",
    "gl_model.add(BatchNormalization())\n",
    "gl_model.add(Dropout(0.2))\n",
    "gl_model.add(Dense(7, activation='sigmoid'))\n",
    "gl_model.compile(loss='binary_crossentropy', optimizer='adam', metrics=[\"categorical_accuracy\"])\n",
    "\n",
    "epochs = 50\n",
    "batch_size = 128\n",
    "\n",
    "gl_history = gl_model.fit(X_train, y_train, epochs=epochs, batch_size=batch_size,validation_split=0.1,callbacks=[EarlyStopping(monitor='val_loss', patience=5, min_delta=0.0001)])"
   ]
  },
  {
   "cell_type": "code",
   "execution_count": 593,
   "metadata": {},
   "outputs": [
    {
     "name": "stdout",
     "output_type": "stream",
     "text": [
      "Model: \"sequential_22\"\n",
      "_________________________________________________________________\n",
      "Layer (type)                 Output Shape              Param #   \n",
      "=================================================================\n",
      "embedding_22 (Embedding)     (None, 250, 100)          7029500   \n",
      "_________________________________________________________________\n",
      "spatial_dropout1d_22 (Spatia (None, 250, 100)          0         \n",
      "_________________________________________________________________\n",
      "bidirectional_22 (Bidirectio (None, 128)               84480     \n",
      "_________________________________________________________________\n",
      "batch_normalization_22 (Batc (None, 128)               512       \n",
      "_________________________________________________________________\n",
      "dropout_22 (Dropout)         (None, 128)               0         \n",
      "_________________________________________________________________\n",
      "dense_22 (Dense)             (None, 7)                 903       \n",
      "=================================================================\n",
      "Total params: 7,115,395\n",
      "Trainable params: 7,115,139\n",
      "Non-trainable params: 256\n",
      "_________________________________________________________________\n"
     ]
    }
   ],
   "source": [
    "gl_model.summary()"
   ]
  },
  {
   "cell_type": "code",
   "execution_count": 594,
   "metadata": {},
   "outputs": [
    {
     "data": {
      "image/png": "[encoded data removed]",
      "text/plain": [
       "<Figure size 720x432 with 1 Axes>"
      ]
     },
     "metadata": {
      "needs_background": "light"
     },
     "output_type": "display_data"
    }
   ],
   "source": [
    "plt.title('Loss')\n",
    "plt.plot(gl_history.history['loss'], label='train')\n",
    "plt.plot(gl_history.history['val_loss'], label='validation')\n",
    "plt.ylabel('Loss')\n",
    "plt.xlabel('Epoch')\n",
    "plt.legend()\n",
    "plt.show()"
   ]
  },
  {
   "cell_type": "code",
   "execution_count": 595,
   "metadata": {},
   "outputs": [
    {
     "data": {
      "image/png": "[encoded data removed]",
      "text/plain": [
       "<Figure size 720x432 with 1 Axes>"
      ]
     },
     "metadata": {
      "needs_background": "light"
     },
     "output_type": "display_data"
    }
   ],
   "source": [
    "plt.title('Accuracy')\n",
    "plt.plot(gl_history.history['categorical_accuracy'], label='train')\n",
    "plt.plot(gl_history.history['val_categorical_accuracy'], label='validation')\n",
    "plt.ylabel('Accuracy')\n",
    "plt.xlabel('Epoch')\n",
    "plt.legend()\n",
    "plt.show()"
   ]
  },
  {
   "cell_type": "code",
   "execution_count": 596,
   "metadata": {},
   "outputs": [],
   "source": [
    "from sklearn.metrics import accuracy_score, classification_report, multilabel_confusion_matrix"
   ]
  },
  {
   "cell_type": "code",
   "execution_count": 597,
   "metadata": {},
   "outputs": [],
   "source": [
    "gl_preds = gl_model.predict(X_test)"
   ]
  },
  {
   "cell_type": "code",
   "execution_count": 598,
   "metadata": {},
   "outputs": [
    {
     "data": {
      "text/plain": [
       "array([1., 0., 0., 0., 0., 0., 0.], dtype=float32)"
      ]
     },
     "execution_count": 598,
     "metadata": {},
     "output_type": "execute_result"
    }
   ],
   "source": [
    "gl_preds.round()[45]"
   ]
  },
  {
   "cell_type": "code",
   "execution_count": 599,
   "metadata": {},
   "outputs": [
    {
     "data": {
      "text/plain": [
       "array([1, 0, 0, 0, 0, 0, 0], dtype=int64)"
      ]
     },
     "execution_count": 599,
     "metadata": {},
     "output_type": "execute_result"
    }
   ],
   "source": [
    "y_test[45]"
   ]
  },
  {
   "cell_type": "code",
   "execution_count": 600,
   "metadata": {},
   "outputs": [
    {
     "name": "stdout",
     "output_type": "stream",
     "text": [
      "Hamming loss is  0.04245714285714286\n",
      "              precision    recall  f1-score   support\n",
      "\n",
      "           0       0.95      0.94      0.94     12617\n",
      "           1       0.89      0.93      0.91      6802\n",
      "           2       0.92      0.85      0.88      4978\n",
      "           3       0.91      0.94      0.92      6725\n",
      "           4       0.92      0.90      0.91      4902\n",
      "           5       0.95      0.95      0.95      4511\n",
      "           6       0.96      0.93      0.94      4540\n",
      "\n",
      "   micro avg       0.93      0.92      0.93     45075\n",
      "   macro avg       0.93      0.92      0.92     45075\n",
      "weighted avg       0.93      0.92      0.93     45075\n",
      " samples avg       0.93      0.93      0.92     45075\n",
      "\n"
     ]
    },
    {
     "name": "stderr",
     "output_type": "stream",
     "text": [
      "C:\\Users\\Asad\\AppData\\Local\\Programs\\Python\\Python39\\lib\\site-packages\\sklearn\\metrics\\_classification.py:1248: UndefinedMetricWarning: Precision and F-score are ill-defined and being set to 0.0 in samples with no predicted labels. Use `zero_division` parameter to control this behavior.\n",
      "  _warn_prf(average, modifier, msg_start, len(result))\n"
     ]
    }
   ],
   "source": [
    "# gl_preds = np.argmax(gl_preds, axis=1)\n",
    "print('Hamming loss is ', hamming_loss(y_test, gl_preds.round()))\n",
    "gl_report = classification_report(y_test, gl_preds.round())\n",
    "print(gl_report)"
   ]
  },
  {
   "cell_type": "markdown",
   "metadata": {},
   "source": [
    "## Multilabel Classification Using Word2Vec"
   ]
  },
  {
   "cell_type": "code",
   "execution_count": 601,
   "metadata": {},
   "outputs": [],
   "source": [
    "X_train, X_test, y_train, y_test = train_test_split(X, y, test_size=0.3, random_state=333)"
   ]
  },
  {
   "cell_type": "code",
   "execution_count": 602,
   "metadata": {},
   "outputs": [],
   "source": [
    "import gensim"
   ]
  },
  {
   "cell_type": "code",
   "execution_count": 603,
   "metadata": {},
   "outputs": [],
   "source": [
    "word2vec_model = gensim.models.Word2Vec(X_train, vector_size = 100,window=5, min_count=15, workers=10)\n",
    "\n",
    "word2vec_weights = word2vec_model.wv.vectors\n",
    "vocab_len, embedding_dim = word2vec_weights.shape"
   ]
  },
  {
   "cell_type": "code",
   "execution_count": 604,
   "metadata": {},
   "outputs": [],
   "source": [
    "#save model\n",
    "filename = 'word2vec.steam.review.txt'\n",
    "word2vec_model.wv.save_word2vec_format(filename, binary=False)"
   ]
  },
  {
   "cell_type": "code",
   "execution_count": 605,
   "metadata": {},
   "outputs": [],
   "source": [
    "tokenizer = Tokenizer(num_words=5000)\n",
    "tokenizer.fit_on_texts(X_train)\n",
    "\n",
    "X_train = tokenizer.texts_to_sequences(X_train)\n",
    "X_test = tokenizer.texts_to_sequences(X_test)\n",
    "\n",
    "vocab_len = len(tokenizer.word_index) + 1\n",
    "\n",
    "maxlen = 250\n",
    "\n",
    "X_train = pad_sequences(X_train, padding='post', maxlen=maxlen)\n",
    "X_test = pad_sequences(X_test, padding='post', maxlen=maxlen)"
   ]
  },
  {
   "cell_type": "code",
   "execution_count": 606,
   "metadata": {},
   "outputs": [],
   "source": [
    "embedding_dict = dict()\n",
    "embedding_dim = 100\n",
    "\n",
    "word2vec_input_file = open('word2vec.steam.review.txt', encoding=\"utf8\")\n",
    "\n",
    "for item in word2vec_input_file:\n",
    "    items = item.split()\n",
    "    word = items[0]\n",
    "    coeff = asarray(items[1:], dtype='float32')\n",
    "    embedding_dict[word] = coeff\n",
    "word2vec_input_file.close()\n",
    "\n",
    "embedding_matrix = zeros((vocab_len, embedding_dim))\n",
    "for word, index in tokenizer.word_index.items():\n",
    "    embedding_vec = embedding_dict.get(word)\n",
    "    if embedding_vec is not None:\n",
    "        embedding_matrix[index] = embedding_vec"
   ]
  },
  {
   "cell_type": "code",
   "execution_count": 607,
   "metadata": {},
   "outputs": [
    {
     "name": "stdout",
     "output_type": "stream",
     "text": [
      "Epoch 1/50\n",
      "370/370 [==============================] - 516s 1s/step - loss: 0.4479 - categorical_accuracy: 0.4549 - val_loss: 0.2309 - val_categorical_accuracy: 0.6981\n",
      "Epoch 2/50\n",
      "370/370 [==============================] - 493s 1s/step - loss: 0.1704 - categorical_accuracy: 0.5560 - val_loss: 0.1630 - val_categorical_accuracy: 0.5408\n",
      "Epoch 3/50\n",
      "370/370 [==============================] - 500s 1s/step - loss: 0.1343 - categorical_accuracy: 0.5433 - val_loss: 0.1589 - val_categorical_accuracy: 0.5244\n",
      "Epoch 4/50\n",
      "370/370 [==============================] - 489s 1s/step - loss: 0.1160 - categorical_accuracy: 0.5646 - val_loss: 0.1429 - val_categorical_accuracy: 0.5446\n",
      "Epoch 5/50\n",
      "370/370 [==============================] - 474s 1s/step - loss: 0.1045 - categorical_accuracy: 0.5535 - val_loss: 0.1302 - val_categorical_accuracy: 0.5419\n",
      "Epoch 6/50\n",
      "370/370 [==============================] - 473s 1s/step - loss: 0.0951 - categorical_accuracy: 0.5654 - val_loss: 0.1310 - val_categorical_accuracy: 0.5798\n",
      "Epoch 7/50\n",
      "370/370 [==============================] - 473s 1s/step - loss: 0.0890 - categorical_accuracy: 0.5696 - val_loss: 0.1387 - val_categorical_accuracy: 0.6410\n",
      "Epoch 8/50\n",
      "370/370 [==============================] - 472s 1s/step - loss: 0.0823 - categorical_accuracy: 0.5862 - val_loss: 0.1566 - val_categorical_accuracy: 0.5267\n",
      "Epoch 9/50\n",
      "370/370 [==============================] - 473s 1s/step - loss: 0.0833 - categorical_accuracy: 0.5624 - val_loss: 0.1404 - val_categorical_accuracy: 0.4823\n",
      "Epoch 10/50\n",
      "370/370 [==============================] - 471s 1s/step - loss: 0.0726 - categorical_accuracy: 0.5606 - val_loss: 0.1536 - val_categorical_accuracy: 0.5232\n"
     ]
    }
   ],
   "source": [
    "w2v_model = Sequential()\n",
    "w2v_model.add(Embedding(vocab_len, embedding_dim, weights=[embedding_matrix], input_length=X_train.shape[1]))\n",
    "w2v_model.add(SpatialDropout1D(0.2))\n",
    "w2v_model.add(Bidirectional(LSTM(64, dropout=0.2, recurrent_dropout=0.2)))\n",
    "w2v_model.add(BatchNormalization())\n",
    "w2v_model.add(Dropout(0.2))\n",
    "w2v_model.add(Dense(7, activation='sigmoid'))\n",
    "w2v_model.compile(loss='binary_crossentropy', optimizer='adam', metrics=[\"categorical_accuracy\"])\n",
    "\n",
    "epochs = 50\n",
    "batch_size = 128\n",
    "\n",
    "w2v_history = w2v_model.fit(X_train, y_train, epochs=epochs, batch_size=batch_size,validation_split=0.1,callbacks=[EarlyStopping(monitor='val_loss', patience=5, min_delta=0.0001)])"
   ]
  },
  {
   "cell_type": "code",
   "execution_count": 608,
   "metadata": {},
   "outputs": [
    {
     "data": {
      "image/png": "[encoded data removed]",
      "text/plain": [
       "<Figure size 720x432 with 1 Axes>"
      ]
     },
     "metadata": {
      "needs_background": "light"
     },
     "output_type": "display_data"
    }
   ],
   "source": [
    "plt.title('Loss')\n",
    "plt.plot(w2v_history.history['loss'], label='train')\n",
    "plt.plot(w2v_history.history['val_loss'], label='validation')\n",
    "plt.ylabel('Loss')\n",
    "plt.xlabel('Epoch')\n",
    "plt.legend()\n",
    "plt.show()"
   ]
  },
  {
   "cell_type": "code",
   "execution_count": 609,
   "metadata": {},
   "outputs": [
    {
     "data": {
      "image/png": "[encoded data removed]",
      "text/plain": [
       "<Figure size 720x432 with 1 Axes>"
      ]
     },
     "metadata": {
      "needs_background": "light"
     },
     "output_type": "display_data"
    }
   ],
   "source": [
    "plt.title('Accuracy')\n",
    "plt.plot(w2v_history.history['categorical_accuracy'], label='train')\n",
    "plt.plot(w2v_history.history['val_categorical_accuracy'], label='validation')\n",
    "plt.ylabel('Accuracy')\n",
    "plt.xlabel('Epoch')\n",
    "plt.legend()\n",
    "plt.show()"
   ]
  },
  {
   "cell_type": "code",
   "execution_count": 610,
   "metadata": {},
   "outputs": [],
   "source": [
    "w2v_preds = w2v_model.predict(X_test)"
   ]
  },
  {
   "cell_type": "code",
   "execution_count": 611,
   "metadata": {},
   "outputs": [
    {
     "name": "stdout",
     "output_type": "stream",
     "text": [
      "Hamming loss is  0.05370793650793651\n",
      "              precision    recall  f1-score   support\n",
      "\n",
      "           0       0.95      0.90      0.93     12617\n",
      "           1       0.93      0.81      0.87      6802\n",
      "           2       0.90      0.81      0.85      4978\n",
      "           3       0.92      0.91      0.91      6725\n",
      "           4       0.88      0.90      0.89      4902\n",
      "           5       0.94      0.93      0.93      4511\n",
      "           6       0.96      0.88      0.92      4540\n",
      "\n",
      "   micro avg       0.93      0.88      0.90     45075\n",
      "   macro avg       0.92      0.88      0.90     45075\n",
      "weighted avg       0.93      0.88      0.90     45075\n",
      " samples avg       0.91      0.89      0.89     45075\n",
      "\n"
     ]
    },
    {
     "name": "stderr",
     "output_type": "stream",
     "text": [
      "C:\\Users\\Asad\\AppData\\Local\\Programs\\Python\\Python39\\lib\\site-packages\\sklearn\\metrics\\_classification.py:1248: UndefinedMetricWarning: Precision and F-score are ill-defined and being set to 0.0 in samples with no predicted labels. Use `zero_division` parameter to control this behavior.\n",
      "  _warn_prf(average, modifier, msg_start, len(result))\n"
     ]
    }
   ],
   "source": [
    "print('Hamming loss is ', hamming_loss(y_test, w2v_preds.round()))\n",
    "w2v_report = classification_report(y_test, w2v_preds.round())\n",
    "print(w2v_report)"
   ]
  },
  {
   "cell_type": "markdown",
   "metadata": {},
   "source": [
    "## Multilabel Classification Using TFIDF"
   ]
  },
  {
   "cell_type": "code",
   "execution_count": 612,
   "metadata": {},
   "outputs": [],
   "source": [
    "X_train, X_test, y_train, y_test = train_test_split(X, y, test_size=0.3, random_state=333)"
   ]
  },
  {
   "cell_type": "code",
   "execution_count": 613,
   "metadata": {},
   "outputs": [],
   "source": [
    "word_counts = {}\n",
    "for review in X_train:\n",
    "    for word in review.split():\n",
    "        if word not in word_counts:\n",
    "            word_counts[word] = 1\n",
    "        word_counts[word] += 1"
   ]
  },
  {
   "cell_type": "code",
   "execution_count": 614,
   "metadata": {},
   "outputs": [],
   "source": [
    "# sort and filter top 10000 words\n",
    "dict_size = 10000\n",
    "pop_words = sorted(word_counts, key=word_counts.get, reverse=True)[:dict_size]\n",
    "word_idx = {key: rank for rank, key in enumerate(pop_words, 0)}\n",
    "idx_words = {index: word for word, index in word_idx.items()}\n",
    "corpus = word_idx.keys()"
   ]
  },
  {
   "cell_type": "code",
   "execution_count": 615,
   "metadata": {},
   "outputs": [],
   "source": [
    "from sklearn.feature_extraction.text import TfidfVectorizer"
   ]
  },
  {
   "cell_type": "code",
   "execution_count": 616,
   "metadata": {},
   "outputs": [],
   "source": [
    "vectorizer = TfidfVectorizer(ngram_range=(1,2), max_features=dict_size)\n",
    "\n",
    "#vectorizer.fit(corpus)\n",
    "X_train = vectorizer.fit_transform(X_train)\n",
    "X_test = vectorizer.transform(X_test)\n",
    "\n",
    "tdif_vocab = vectorizer.vocabulary_\n"
   ]
  },
  {
   "cell_type": "code",
   "execution_count": 617,
   "metadata": {},
   "outputs": [],
   "source": [
    "from sklearn.svm import LinearSVC\n",
    "from sklearn.multiclass import OneVsRestClassifier"
   ]
  },
  {
   "cell_type": "code",
   "execution_count": 618,
   "metadata": {},
   "outputs": [],
   "source": [
    "svmClassifier = OneVsRestClassifier(LinearSVC(), n_jobs=-1)\n",
    "clf = svmClassifier.fit(X_train, y_train)"
   ]
  },
  {
   "cell_type": "code",
   "execution_count": 619,
   "metadata": {},
   "outputs": [],
   "source": [
    "svm_preds = svmClassifier.predict(X_test)"
   ]
  },
  {
   "cell_type": "code",
   "execution_count": 620,
   "metadata": {},
   "outputs": [
    {
     "name": "stdout",
     "output_type": "stream",
     "text": [
      "Hamming loss is  0.04607619047619048\n",
      "              precision    recall  f1-score   support\n",
      "\n",
      "           0       0.93      0.94      0.93     12617\n",
      "           1       0.92      0.89      0.90      6802\n",
      "           2       0.91      0.82      0.86      4978\n",
      "           3       0.94      0.90      0.92      6725\n",
      "           4       0.93      0.87      0.90      4902\n",
      "           5       0.97      0.92      0.94      4511\n",
      "           6       0.97      0.92      0.94      4540\n",
      "\n",
      "   micro avg       0.94      0.90      0.92     45075\n",
      "   macro avg       0.94      0.89      0.92     45075\n",
      "weighted avg       0.94      0.90      0.92     45075\n",
      " samples avg       0.92      0.90      0.90     45075\n",
      "\n"
     ]
    },
    {
     "name": "stderr",
     "output_type": "stream",
     "text": [
      "C:\\Users\\Asad\\AppData\\Local\\Programs\\Python\\Python39\\lib\\site-packages\\sklearn\\metrics\\_classification.py:1248: UndefinedMetricWarning: Precision and F-score are ill-defined and being set to 0.0 in samples with no predicted labels. Use `zero_division` parameter to control this behavior.\n",
      "  _warn_prf(average, modifier, msg_start, len(result))\n"
     ]
    }
   ],
   "source": [
    "print('Hamming loss is ', hamming_loss(y_test, svm_preds))\n",
    "svm_report = classification_report(y_test, svm_preds)\n",
    "print(svm_report)"
   ]
  },
  {
   "cell_type": "markdown",
   "metadata": {},
   "source": [
    "# Sentiment Analysis"
   ]
  },
  {
   "cell_type": "code",
   "execution_count": 621,
   "metadata": {},
   "outputs": [],
   "source": [
    "X = []\n",
    "reviews = list(data_sa[\"review_text\"])\n",
    "for sentence in reviews:\n",
    "    X.append(preprocess(sentence))\n",
    "y = data_sa[\"review_score\"].values"
   ]
  },
  {
   "cell_type": "code",
   "execution_count": null,
   "metadata": {},
   "outputs": [],
   "source": []
  },
  {
   "cell_type": "markdown",
   "metadata": {},
   "source": [
    "## Sentiment Analysis Base Model"
   ]
  },
  {
   "cell_type": "code",
   "execution_count": 622,
   "metadata": {},
   "outputs": [],
   "source": [
    "X_train, X_test, y_train, y_test = train_test_split(X, y, test_size=0.3, random_state=333)"
   ]
  },
  {
   "cell_type": "code",
   "execution_count": 623,
   "metadata": {},
   "outputs": [],
   "source": [
    "tokenizer = Tokenizer(num_words=5000)\n",
    "tokenizer.fit_on_texts(X_train)\n",
    "\n",
    "X_train = tokenizer.texts_to_sequences(X_train)\n",
    "X_test = tokenizer.texts_to_sequences(X_test)\n",
    "\n",
    "vocab_len = len(tokenizer.word_index) + 1\n",
    "\n",
    "maxlen = 250\n",
    "embedding_dim = 100\n",
    "\n",
    "X_train = pad_sequences(X_train, padding='post', maxlen=maxlen)\n",
    "X_test = pad_sequences(X_test, padding='post', maxlen=maxlen)"
   ]
  },
  {
   "cell_type": "code",
   "execution_count": 624,
   "metadata": {},
   "outputs": [
    {
     "name": "stdout",
     "output_type": "stream",
     "text": [
      "Epoch 1/50\n",
      "370/370 [==============================] - 549s 1s/step - loss: 0.5088 - acc: 0.7376 - val_loss: 0.3979 - val_acc: 0.8312\n",
      "Epoch 2/50\n",
      "370/370 [==============================] - 529s 1s/step - loss: 0.3182 - acc: 0.8684 - val_loss: 0.4209 - val_acc: 0.8320\n",
      "Epoch 3/50\n",
      "370/370 [==============================] - 522s 1s/step - loss: 0.2833 - acc: 0.8860 - val_loss: 0.4046 - val_acc: 0.8472\n",
      "Epoch 4/50\n",
      "370/370 [==============================] - 523s 1s/step - loss: 0.2565 - acc: 0.8959 - val_loss: 0.4245 - val_acc: 0.8410\n",
      "Epoch 5/50\n",
      "370/370 [==============================] - 520s 1s/step - loss: 0.2626 - acc: 0.8914 - val_loss: 0.4201 - val_acc: 0.8406\n",
      "Epoch 6/50\n",
      "370/370 [==============================] - 521s 1s/step - loss: 0.2150 - acc: 0.9160 - val_loss: 0.4824 - val_acc: 0.8364\n"
     ]
    }
   ],
   "source": [
    "sb_model = Sequential()\n",
    "sb_model.add(Embedding(vocab_len, embedding_dim, input_length=X_train.shape[1]))\n",
    "sb_model.add(SpatialDropout1D(0.2))\n",
    "sb_model.add(Bidirectional(LSTM(64, dropout=0.2, recurrent_dropout=0.2)))\n",
    "sb_model.add(BatchNormalization())\n",
    "sb_model.add(Dropout(0.2))\n",
    "sb_model.add(Dense(1, activation='sigmoid'))\n",
    "sb_model.compile(loss='binary_crossentropy', optimizer='adam', metrics=[\"acc\"])\n",
    "\n",
    "epochs = 50\n",
    "batch_size = 128\n",
    "\n",
    "sb_history = sb_model.fit(X_train, y_train, epochs=epochs, batch_size=batch_size,validation_split=0.1,callbacks=[EarlyStopping(monitor='val_loss', patience=5, min_delta=0.0001)])"
   ]
  },
  {
   "cell_type": "code",
   "execution_count": 625,
   "metadata": {},
   "outputs": [
    {
     "name": "stdout",
     "output_type": "stream",
     "text": [
      "Model: \"sequential_24\"\n",
      "_________________________________________________________________\n",
      "Layer (type)                 Output Shape              Param #   \n",
      "=================================================================\n",
      "embedding_24 (Embedding)     (None, 250, 100)          8626900   \n",
      "_________________________________________________________________\n",
      "spatial_dropout1d_24 (Spatia (None, 250, 100)          0         \n",
      "_________________________________________________________________\n",
      "bidirectional_24 (Bidirectio (None, 128)               84480     \n",
      "_________________________________________________________________\n",
      "batch_normalization_24 (Batc (None, 128)               512       \n",
      "_________________________________________________________________\n",
      "dropout_24 (Dropout)         (None, 128)               0         \n",
      "_________________________________________________________________\n",
      "dense_24 (Dense)             (None, 1)                 129       \n",
      "=================================================================\n",
      "Total params: 8,712,021\n",
      "Trainable params: 8,711,765\n",
      "Non-trainable params: 256\n",
      "_________________________________________________________________\n"
     ]
    }
   ],
   "source": [
    "sb_model.summary()"
   ]
  },
  {
   "cell_type": "code",
   "execution_count": 626,
   "metadata": {},
   "outputs": [
    {
     "data": {
      "image/png": "[encoded data removed]",
      "text/plain": [
       "<Figure size 720x432 with 1 Axes>"
      ]
     },
     "metadata": {
      "needs_background": "light"
     },
     "output_type": "display_data"
    }
   ],
   "source": [
    "plt.title('Loss')\n",
    "plt.plot(sb_history.history['loss'], label='train')\n",
    "plt.plot(sb_history.history['val_loss'], label='validation')\n",
    "plt.ylabel('Loss')\n",
    "plt.xlabel('Epoch')\n",
    "plt.legend()\n",
    "plt.show()"
   ]
  },
  {
   "cell_type": "code",
   "execution_count": 627,
   "metadata": {},
   "outputs": [
    {
     "data": {
      "image/png": "[encoded data removed]",
      "text/plain": [
       "<Figure size 720x432 with 1 Axes>"
      ]
     },
     "metadata": {
      "needs_background": "light"
     },
     "output_type": "display_data"
    }
   ],
   "source": [
    "plt.title('Accuracy')\n",
    "plt.plot(sb_history.history['acc'], label='train')\n",
    "plt.plot(sb_history.history['val_acc'], label='validation')\n",
    "plt.ylabel('Accuracy')\n",
    "plt.xlabel('Epoch')\n",
    "plt.legend()\n",
    "plt.show()"
   ]
  },
  {
   "cell_type": "code",
   "execution_count": 628,
   "metadata": {},
   "outputs": [],
   "source": [
    "sb_preds = sb_model.predict(X_test)"
   ]
  },
  {
   "cell_type": "code",
   "execution_count": 629,
   "metadata": {},
   "outputs": [
    {
     "data": {
      "text/plain": [
       "array([[0.9986285 ],\n",
       "       [0.35580617],\n",
       "       [0.94802487],\n",
       "       ...,\n",
       "       [0.21741048],\n",
       "       [0.3026722 ],\n",
       "       [0.99662733]], dtype=float32)"
      ]
     },
     "execution_count": 629,
     "metadata": {},
     "output_type": "execute_result"
    }
   ],
   "source": [
    "sb_preds"
   ]
  },
  {
   "cell_type": "code",
   "execution_count": 630,
   "metadata": {},
   "outputs": [
    {
     "data": {
      "text/plain": [
       "0"
      ]
     },
     "execution_count": 630,
     "metadata": {},
     "output_type": "execute_result"
    }
   ],
   "source": [
    "y_test[1]"
   ]
  },
  {
   "cell_type": "code",
   "execution_count": 631,
   "metadata": {},
   "outputs": [
    {
     "name": "stdout",
     "output_type": "stream",
     "text": [
      "Test accuracy is  0.8416\n",
      "              precision    recall  f1-score   support\n",
      "\n",
      "           0       0.82      0.88      0.85     11180\n",
      "           1       0.87      0.81      0.84     11320\n",
      "\n",
      "    accuracy                           0.84     22500\n",
      "   macro avg       0.84      0.84      0.84     22500\n",
      "weighted avg       0.84      0.84      0.84     22500\n",
      "\n"
     ]
    }
   ],
   "source": [
    "print('Test accuracy is ',accuracy_score(y_test, sb_preds.round()))\n",
    "sb_report = classification_report(y_test, sb_preds.round())\n",
    "print(sb_report)"
   ]
  },
  {
   "cell_type": "markdown",
   "metadata": {},
   "source": [
    "## Sentiment Analysis Using GloVe"
   ]
  },
  {
   "cell_type": "code",
   "execution_count": 632,
   "metadata": {},
   "outputs": [],
   "source": [
    "X_train, X_test, y_train, y_test = train_test_split(X, y, test_size=0.3, random_state=333)"
   ]
  },
  {
   "cell_type": "code",
   "execution_count": 633,
   "metadata": {},
   "outputs": [],
   "source": [
    "tokenizer = Tokenizer(num_words=5000)\n",
    "tokenizer.fit_on_texts(X_train)\n",
    "\n",
    "X_train = tokenizer.texts_to_sequences(X_train)\n",
    "X_test = tokenizer.texts_to_sequences(X_test)\n",
    "\n",
    "vocab_len = len(tokenizer.word_index) + 1\n",
    "\n",
    "maxlen = 250\n",
    "\n",
    "X_train = pad_sequences(X_train, padding='post', maxlen=maxlen)\n",
    "X_test = pad_sequences(X_test, padding='post', maxlen=maxlen)"
   ]
  },
  {
   "cell_type": "code",
   "execution_count": 634,
   "metadata": {},
   "outputs": [
    {
     "name": "stdout",
     "output_type": "stream",
     "text": [
      "(52500, 250) (52500,)\n",
      "(22500, 250) (22500,)\n"
     ]
    }
   ],
   "source": [
    "print(X_train.shape, y_train.shape)\n",
    "print(X_test.shape,y_test.shape)"
   ]
  },
  {
   "cell_type": "code",
   "execution_count": 635,
   "metadata": {},
   "outputs": [],
   "source": [
    "embedding_dict = dict()\n",
    "embedding_dim = 100\n",
    "\n",
    "glove_input_file = open('glove.twitter.27B.100d.txt', encoding=\"utf8\")\n",
    "\n",
    "for item in glove_input_file:\n",
    "    items = item.split(' ')\n",
    "    word = items[0]\n",
    "    coeff = asarray(items[1:], dtype='float32')\n",
    "    embedding_dict[word] = coeff\n",
    "glove_input_file.close()\n",
    "\n",
    "embedding_matrix = zeros((vocab_len, embedding_dim))\n",
    "for word, index in tokenizer.word_index.items():\n",
    "    embedding_vec = embedding_dict.get(word)\n",
    "    if embedding_vec is not None:\n",
    "        embedding_matrix[index] = embedding_vec"
   ]
  },
  {
   "cell_type": "code",
   "execution_count": 636,
   "metadata": {},
   "outputs": [
    {
     "data": {
      "text/plain": [
       "(52500,)"
      ]
     },
     "execution_count": 636,
     "metadata": {},
     "output_type": "execute_result"
    }
   ],
   "source": [
    "y_train.shape"
   ]
  },
  {
   "cell_type": "code",
   "execution_count": 637,
   "metadata": {},
   "outputs": [
    {
     "name": "stdout",
     "output_type": "stream",
     "text": [
      "Epoch 1/50\n",
      "370/370 [==============================] - 495s 1s/step - loss: 0.6112 - acc: 0.6875 - val_loss: 0.4235 - val_acc: 0.8173\n",
      "Epoch 2/50\n",
      "370/370 [==============================] - 474s 1s/step - loss: 0.4143 - acc: 0.8153 - val_loss: 0.3678 - val_acc: 0.8451\n",
      "Epoch 3/50\n",
      "370/370 [==============================] - 467s 1s/step - loss: 0.3539 - acc: 0.8480 - val_loss: 0.3665 - val_acc: 0.8526\n",
      "Epoch 4/50\n",
      "370/370 [==============================] - 461s 1s/step - loss: 0.3284 - acc: 0.8607 - val_loss: 0.3528 - val_acc: 0.8577\n",
      "Epoch 5/50\n",
      "370/370 [==============================] - 462s 1s/step - loss: 0.3067 - acc: 0.8693 - val_loss: 0.3401 - val_acc: 0.8575\n",
      "Epoch 6/50\n",
      "370/370 [==============================] - 465s 1s/step - loss: 0.2857 - acc: 0.8799 - val_loss: 0.3433 - val_acc: 0.8562\n",
      "Epoch 7/50\n",
      "370/370 [==============================] - 458s 1s/step - loss: 0.2749 - acc: 0.8869 - val_loss: 0.3475 - val_acc: 0.8600\n",
      "Epoch 8/50\n",
      "370/370 [==============================] - 463s 1s/step - loss: 0.2606 - acc: 0.8913 - val_loss: 0.3503 - val_acc: 0.8537\n",
      "Epoch 9/50\n",
      "370/370 [==============================] - 465s 1s/step - loss: 0.2495 - acc: 0.8976 - val_loss: 0.3426 - val_acc: 0.8617\n",
      "Epoch 10/50\n",
      "370/370 [==============================] - 462s 1s/step - loss: 0.2346 - acc: 0.9044 - val_loss: 0.3632 - val_acc: 0.8630\n"
     ]
    }
   ],
   "source": [
    "sgl_model = Sequential()\n",
    "sgl_model.add(Embedding(vocab_len, embedding_dim, weights=[embedding_matrix], input_length=X_train.shape[1]))\n",
    "sgl_model.add(SpatialDropout1D(0.2))\n",
    "sgl_model.add(Bidirectional(LSTM(64, dropout=0.2, recurrent_dropout=0.2)))\n",
    "sgl_model.add(BatchNormalization())\n",
    "sgl_model.add(Dropout(0.2))\n",
    "sgl_model.add(Dense(1, activation='sigmoid'))\n",
    "sgl_model.compile(loss='binary_crossentropy', optimizer='adam', metrics=[\"acc\"])\n",
    "\n",
    "epochs = 50\n",
    "batch_size = 128\n",
    "\n",
    "sgl_history = sgl_model.fit(X_train, y_train, epochs=epochs, batch_size=batch_size,validation_split=0.1,callbacks=[EarlyStopping(monitor='val_loss', patience=5, min_delta=0.0001)])"
   ]
  },
  {
   "cell_type": "code",
   "execution_count": 638,
   "metadata": {},
   "outputs": [
    {
     "data": {
      "image/png": "[encoded data removed]",
      "text/plain": [
       "<Figure size 720x432 with 1 Axes>"
      ]
     },
     "metadata": {
      "needs_background": "light"
     },
     "output_type": "display_data"
    }
   ],
   "source": [
    "plt.title('Loss')\n",
    "plt.plot(sgl_history.history['loss'], label='train')\n",
    "plt.plot(sgl_history.history['val_loss'], label='validation')\n",
    "plt.xlabel('Loss')\n",
    "plt.ylabel('Epoch')\n",
    "plt.legend()\n",
    "plt.show()"
   ]
  },
  {
   "cell_type": "code",
   "execution_count": 639,
   "metadata": {},
   "outputs": [
    {
     "data": {
      "image/png": "[encoded data removed]",
      "text/plain": [
       "<Figure size 720x432 with 1 Axes>"
      ]
     },
     "metadata": {
      "needs_background": "light"
     },
     "output_type": "display_data"
    }
   ],
   "source": [
    "plt.title('Accuracy')\n",
    "plt.plot(sgl_history.history['acc'], label='train')\n",
    "plt.plot(sgl_history.history['val_acc'], label='validation')\n",
    "plt.xlabel('Accuracy')\n",
    "plt.ylabel('Epoch')\n",
    "plt.legend()\n",
    "plt.show()"
   ]
  },
  {
   "cell_type": "code",
   "execution_count": 640,
   "metadata": {},
   "outputs": [],
   "source": [
    "sgl_preds = sgl_model.predict(X_test)"
   ]
  },
  {
   "cell_type": "code",
   "execution_count": 641,
   "metadata": {},
   "outputs": [
    {
     "name": "stdout",
     "output_type": "stream",
     "text": [
      "Test accuracy is  0.8643555555555555\n",
      "              precision    recall  f1-score   support\n",
      "\n",
      "           0       0.87      0.85      0.86     11180\n",
      "           1       0.86      0.87      0.87     11320\n",
      "\n",
      "    accuracy                           0.86     22500\n",
      "   macro avg       0.86      0.86      0.86     22500\n",
      "weighted avg       0.86      0.86      0.86     22500\n",
      "\n"
     ]
    }
   ],
   "source": [
    "print('Test accuracy is ', accuracy_score(y_test, sgl_preds.round()))\n",
    "sgl_report = classification_report(y_test, sgl_preds.round())\n",
    "print(sgl_report)"
   ]
  },
  {
   "cell_type": "markdown",
   "metadata": {},
   "source": [
    "## Sentiment Analysis Using Word2Vec"
   ]
  },
  {
   "cell_type": "code",
   "execution_count": 642,
   "metadata": {},
   "outputs": [],
   "source": [
    "X_train, X_test, y_train, y_test = train_test_split(X, y, test_size=0.3, random_state=333)"
   ]
  },
  {
   "cell_type": "code",
   "execution_count": 643,
   "metadata": {},
   "outputs": [],
   "source": [
    "word2vec_model = gensim.models.Word2Vec(X_train, vector_size=100, window=5, min_count=15, workers=10)\n",
    "\n",
    "word2vec_weights = word2vec_model.wv.vectors\n",
    "vocab_len, embedding_dim = word2vec_weights.shape"
   ]
  },
  {
   "cell_type": "code",
   "execution_count": 644,
   "metadata": {},
   "outputs": [],
   "source": [
    "# save model\n",
    "filename = 'word2vec.steam.review.txt'\n",
    "word2vec_model.wv.save_word2vec_format(filename, binary=False)"
   ]
  },
  {
   "cell_type": "code",
   "execution_count": 645,
   "metadata": {},
   "outputs": [],
   "source": [
    "tokenizer = Tokenizer(num_words=10000)\n",
    "tokenizer.fit_on_texts(X_train)\n",
    "\n",
    "X_train = tokenizer.texts_to_sequences(X_train)\n",
    "X_test = tokenizer.texts_to_sequences(X_test)\n",
    "\n",
    "vocab_len = len(tokenizer.word_index) + 1\n",
    "\n",
    "maxlen = 250\n",
    "\n",
    "X_train = pad_sequences(X_train, padding='post', maxlen=maxlen)\n",
    "X_test = pad_sequences(X_test, padding='post', maxlen=maxlen)"
   ]
  },
  {
   "cell_type": "code",
   "execution_count": 646,
   "metadata": {},
   "outputs": [],
   "source": [
    "embedding_dict = dict()\n",
    "embedding_dim = 100\n",
    "\n",
    "word2vec_input_file = open('word2vec.steam.review.txt', encoding=\"utf8\")\n",
    "\n",
    "for item in word2vec_input_file:\n",
    "    items = item.split()\n",
    "    word = items[0]\n",
    "    coeffs = asarray(items[1:], dtype='float32')\n",
    "    embedding_dict[word] = coeffs\n",
    "word2vec_input_file.close()\n",
    "\n",
    "embedding_matrix = zeros((vocab_len, embedding_dim))\n",
    "for word, index in tokenizer.word_index.items():\n",
    "    embedding_vec = embedding_dict.get(word)\n",
    "    if embedding_vec is not None:\n",
    "        embedding_matrix[index] = embedding_vec"
   ]
  },
  {
   "cell_type": "code",
   "execution_count": 647,
   "metadata": {},
   "outputs": [
    {
     "name": "stdout",
     "output_type": "stream",
     "text": [
      "Epoch 1/50\n",
      "370/370 [==============================] - 528s 1s/step - loss: 0.4846 - acc: 0.7599 - val_loss: 0.4162 - val_acc: 0.8366\n",
      "Epoch 2/50\n",
      "370/370 [==============================] - 507s 1s/step - loss: 0.2967 - acc: 0.8790 - val_loss: 0.3700 - val_acc: 0.8371\n",
      "Epoch 3/50\n",
      "370/370 [==============================] - 507s 1s/step - loss: 0.2403 - acc: 0.9044 - val_loss: 0.3952 - val_acc: 0.8408\n",
      "Epoch 4/50\n",
      "370/370 [==============================] - 507s 1s/step - loss: 0.2192 - acc: 0.9142 - val_loss: 0.4115 - val_acc: 0.8291\n",
      "Epoch 5/50\n",
      "370/370 [==============================] - 518s 1s/step - loss: 0.1881 - acc: 0.9296 - val_loss: 0.5163 - val_acc: 0.8356\n",
      "Epoch 6/50\n",
      "370/370 [==============================] - 510s 1s/step - loss: 0.1562 - acc: 0.9396 - val_loss: 0.4917 - val_acc: 0.8269\n",
      "Epoch 7/50\n",
      "370/370 [==============================] - 506s 1s/step - loss: 0.1366 - acc: 0.9485 - val_loss: 0.5572 - val_acc: 0.8286\n"
     ]
    }
   ],
   "source": [
    "sw2v_model = Sequential()\n",
    "sw2v_model.add(Embedding(vocab_len, embedding_dim, weights=[embedding_matrix], input_length=X_train.shape[1]))\n",
    "sw2v_model.add(SpatialDropout1D(0.2))\n",
    "sw2v_model.add(Bidirectional(LSTM(64, dropout=0.2, recurrent_dropout=0.2)))\n",
    "sw2v_model.add(BatchNormalization())\n",
    "sw2v_model.add(Dropout(0.2))\n",
    "sw2v_model.add(Dense(1, activation='sigmoid'))\n",
    "sw2v_model.compile(loss='binary_crossentropy', optimizer='adam', metrics=[\"acc\"])\n",
    "\n",
    "epochs = 50\n",
    "batch_size = 128\n",
    "\n",
    "sw2v_history = sw2v_model.fit(X_train, y_train, epochs=epochs, batch_size=batch_size,validation_split=0.1,callbacks=[EarlyStopping(monitor='val_loss', patience=5, min_delta=0.0001)])"
   ]
  },
  {
   "cell_type": "code",
   "execution_count": 648,
   "metadata": {},
   "outputs": [
    {
     "data": {
      "image/png": "[encoded data removed]",
      "text/plain": [
       "<Figure size 720x432 with 1 Axes>"
      ]
     },
     "metadata": {
      "needs_background": "light"
     },
     "output_type": "display_data"
    }
   ],
   "source": [
    "plt.title('Loss')\n",
    "plt.plot(sw2v_history.history['loss'], label='train')\n",
    "plt.plot(sw2v_history.history['val_loss'], label='validation')\n",
    "plt.ylabel('Loss')\n",
    "plt.xlabel(\"Epoch\")\n",
    "plt.legend()\n",
    "plt.show()"
   ]
  },
  {
   "cell_type": "code",
   "execution_count": 649,
   "metadata": {},
   "outputs": [
    {
     "data": {
      "image/png": "[encoded data removed]",
      "text/plain": [
       "<Figure size 720x432 with 1 Axes>"
      ]
     },
     "metadata": {
      "needs_background": "light"
     },
     "output_type": "display_data"
    }
   ],
   "source": [
    "plt.title('Accuracy')\n",
    "plt.plot(sw2v_history.history['acc'], label='train')\n",
    "plt.plot(sw2v_history.history['val_acc'], label='validation')\n",
    "plt.legend()\n",
    "plt.show()"
   ]
  },
  {
   "cell_type": "code",
   "execution_count": 650,
   "metadata": {},
   "outputs": [],
   "source": [
    "sw2v_preds = sw2v_model.predict(X_test)"
   ]
  },
  {
   "cell_type": "code",
   "execution_count": 651,
   "metadata": {},
   "outputs": [
    {
     "data": {
      "text/plain": [
       "array([0.9963342], dtype=float32)"
      ]
     },
     "execution_count": 651,
     "metadata": {},
     "output_type": "execute_result"
    }
   ],
   "source": [
    "sw2v_preds[0]"
   ]
  },
  {
   "cell_type": "code",
   "execution_count": 652,
   "metadata": {},
   "outputs": [
    {
     "data": {
      "text/plain": [
       "1"
      ]
     },
     "execution_count": 652,
     "metadata": {},
     "output_type": "execute_result"
    }
   ],
   "source": [
    "y_test[0]"
   ]
  },
  {
   "cell_type": "code",
   "execution_count": 653,
   "metadata": {},
   "outputs": [
    {
     "name": "stdout",
     "output_type": "stream",
     "text": [
      "Test accuracy is  0.8286666666666667\n",
      "              precision    recall  f1-score   support\n",
      "\n",
      "           0       0.81      0.86      0.83     11180\n",
      "           1       0.85      0.80      0.82     11320\n",
      "\n",
      "    accuracy                           0.83     22500\n",
      "   macro avg       0.83      0.83      0.83     22500\n",
      "weighted avg       0.83      0.83      0.83     22500\n",
      "\n"
     ]
    }
   ],
   "source": [
    "print('Test accuracy is ', accuracy_score(y_test, sw2v_preds.round()))\n",
    "sw2v_report = classification_report(y_test, sw2v_preds.round())\n",
    "print(sw2v_report)"
   ]
  },
  {
   "cell_type": "markdown",
   "metadata": {},
   "source": [
    "## Sentiment Analysis Using TFIDF"
   ]
  },
  {
   "cell_type": "code",
   "execution_count": 654,
   "metadata": {},
   "outputs": [],
   "source": [
    "X_train, X_test, y_train, y_test = train_test_split(X, y, test_size=0.3, random_state=333)"
   ]
  },
  {
   "cell_type": "code",
   "execution_count": 655,
   "metadata": {},
   "outputs": [],
   "source": [
    "word_counts = {}\n",
    "for review in X_train:\n",
    "    for word in review.split():\n",
    "        if word not in word_counts:\n",
    "            word_counts[word] = 1\n",
    "        word_counts[word] += 1"
   ]
  },
  {
   "cell_type": "code",
   "execution_count": 656,
   "metadata": {},
   "outputs": [],
   "source": [
    "# sort and filter top 10000 words\n",
    "dict_size = 10000\n",
    "pop_words = sorted(word_counts, key=word_counts.get, reverse=True)[:dict_size]\n",
    "word_idx = {key: rank for rank, key in enumerate(pop_words, 0)}\n",
    "idx_words = {index: word for word, index in word_idx.items()}\n",
    "corpus = word_idx.keys()"
   ]
  },
  {
   "cell_type": "code",
   "execution_count": 657,
   "metadata": {},
   "outputs": [],
   "source": [
    "vectorizer = TfidfVectorizer(ngram_range=(1,2), max_features=dict_size)\n",
    "\n",
    "#vectorizer.fit(corpus)\n",
    "X_train = vectorizer.fit_transform(X_train)\n",
    "X_test = vectorizer.transform(X_test)\n",
    "\n",
    "tdif_vocab = vectorizer.vocabulary_\n"
   ]
  },
  {
   "cell_type": "code",
   "execution_count": 658,
   "metadata": {},
   "outputs": [],
   "source": [
    "from sklearn import svm"
   ]
  },
  {
   "cell_type": "code",
   "execution_count": 659,
   "metadata": {},
   "outputs": [
    {
     "name": "stdout",
     "output_type": "stream",
     "text": [
      "[LibSVM]"
     ]
    },
    {
     "data": {
      "text/plain": [
       "SVC(kernel='linear', verbose=True)"
      ]
     },
     "execution_count": 659,
     "metadata": {},
     "output_type": "execute_result"
    }
   ],
   "source": [
    "svmClassifier = svm.SVC(kernel='linear', verbose=True)\n",
    "svmClassifier.fit(X_train, y_train)"
   ]
  },
  {
   "cell_type": "code",
   "execution_count": 660,
   "metadata": {},
   "outputs": [],
   "source": [
    "ssvm_preds = svmClassifier.predict(X_test)"
   ]
  },
  {
   "cell_type": "code",
   "execution_count": 661,
   "metadata": {},
   "outputs": [
    {
     "name": "stdout",
     "output_type": "stream",
     "text": [
      "Test accuracy is  0.8636444444444444\n",
      "              precision    recall  f1-score   support\n",
      "\n",
      "           0       0.86      0.87      0.86     11180\n",
      "           1       0.87      0.86      0.86     11320\n",
      "\n",
      "    accuracy                           0.86     22500\n",
      "   macro avg       0.86      0.86      0.86     22500\n",
      "weighted avg       0.86      0.86      0.86     22500\n",
      "\n"
     ]
    }
   ],
   "source": [
    "print('Test accuracy is ', accuracy_score(y_test, ssvm_preds))\n",
    "ssvm_report = classification_report(y_test, ssvm_preds)\n",
    "print(ssvm_report)"
   ]
  }
 ],
 "metadata": {
  "interpreter": {
   "hash": "c740fc07b8c940b62f193e2f8c6c8f25f46c9c84a49eb911d77e0a166f86716b"
  },
  "kernelspec": {
   "display_name": "Python 3.9.5 64-bit",
   "language": "python",
   "name": "python3"
  },
  "language_info": {
   "codemirror_mode": {
    "name": "ipython",
    "version": 3
   },
   "file_extension": ".py",
   "mimetype": "text/x-python",
   "name": "python",
   "nbconvert_exporter": "python",
   "pygments_lexer": "ipython3",
   "version": "3.9.5"
  },
  "orig_nbformat": 4
 },
 "nbformat": 4,
 "nbformat_minor": 2
}
